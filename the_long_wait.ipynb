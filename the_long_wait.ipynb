{
 "cells": [
  {
   "cell_type": "markdown",
   "metadata": {},
   "source": [
    "# The long wait\n",
    "\n",
    "* [Libraries ](#Libraries)\n",
    "* [Data loading, visualization and exploratory analysis](#data)\n",
    "* [Modeling](#Modeling)\n",
    "    * [Baseline Estimate](#Baseline)\n",
    "    * [Logistic Regression](#Logistic-Regression)\n",
    "    * [Tree Models](#Tree-Models)\n",
    "        * [Decision Tree](#Decision-Tree-Classifier)\n",
    "        * [Random Forest](#Random-Forest-Classifier)\n",
    "        * [AdaBoost](#AdaBoost-Classifier)\n",
    "    * [Neural network model with Keras](#nn)\n",
    "* [Summary](#Summary)\n",
    "\n"
   ]
  },
  {
   "cell_type": "markdown",
   "metadata": {},
   "source": [
    "# Libraries <a id='Libraries'></a>"
   ]
  },
  {
   "cell_type": "code",
   "execution_count": 392,
   "metadata": {
    "colab": {
     "base_uri": "https://localhost:8080/",
     "height": 147
    },
    "colab_type": "code",
    "id": "gr1k7BKZqAP3",
    "outputId": "57d1e07a-78fb-488f-9160-0817ad6dafbb"
   },
   "outputs": [],
   "source": [
    "#The bread and butter:\n",
    "import pandas as pd\n",
    "import numpy as np\n",
    "\n",
    "#Visualizations:\n",
    "import matplotlib.pyplot as plt\n",
    "from matplotlib.pyplot import figure\n",
    "import seaborn as sb\n",
    "\n",
    "#Statistics:\n",
    "import scipy.stats as stats\n",
    "\n",
    "#ML:\n",
    "from sklearn.model_selection import train_test_split, StratifiedKFold, cross_val_score, cross_val_predict, GridSearchCV\n",
    "from sklearn.linear_model import LogisticRegression\n",
    "from sklearn.ensemble import RandomForestClassifier, AdaBoostClassifier\n",
    "from sklearn import metrics\n",
    "from sklearn.metrics import classification_report, roc_auc_score, precision_score,recall_score\n",
    "from yellowbrick.classifier import ROCAUC\n",
    "from sklearn.tree import DecisionTreeClassifier\n",
    "import keras\n",
    "from keras.models import Sequential\n",
    "from keras.utils import to_categorical\n",
    "from keras.layers import Dense\n"
   ]
  },
  {
   "cell_type": "markdown",
   "metadata": {},
   "source": [
    "# Data loading, visualization and exploratory analysis <a id='data'></a>\n",
    "\n",
    "Data consists of all January 2019 flights downloaded from Kaggle."
   ]
  },
  {
   "cell_type": "code",
   "execution_count": 2,
   "metadata": {
    "colab": {},
    "colab_type": "code",
    "id": "G9qpoaBbKtZ2"
   },
   "outputs": [],
   "source": [
    "path19 = 'https://raw.githubusercontent.com/flikrama/UH-SPE-ML-Bootcamp-Team4-Project2/master/Jan_2019_ontime.csv'\n",
    "df19 = pd.read_csv(path19)"
   ]
  },
  {
   "cell_type": "code",
   "execution_count": 3,
   "metadata": {
    "colab": {},
    "colab_type": "code",
    "id": "gpnf53B2qAQA"
   },
   "outputs": [],
   "source": [
    "df19 = df19.drop('Unnamed: 21', axis = 1)"
   ]
  },
  {
   "cell_type": "code",
   "execution_count": 4,
   "metadata": {
    "colab": {
     "base_uri": "https://localhost:8080/",
     "height": 641
    },
    "colab_type": "code",
    "id": "0e_YVMknqAQE",
    "outputId": "b49b833a-318e-4f71-f012-dd1cb16e73fc"
   },
   "outputs": [
    {
     "name": "stdout",
     "output_type": "stream",
     "text": [
      "(583985, 21)\n",
      "        DAY_OF_MONTH    DAY_OF_WEEK  OP_CARRIER_AIRLINE_ID  OP_CARRIER_FL_NUM  \\\n",
      "count  583985.000000  583985.000000          583985.000000      583985.000000   \n",
      "mean       15.960088       3.835626           19983.213168        2537.869334   \n",
      "std         8.987942       1.921899             377.724638        1821.736145   \n",
      "min         1.000000       1.000000           19393.000000           1.000000   \n",
      "25%         8.000000       2.000000           19790.000000         979.000000   \n",
      "50%        16.000000       4.000000           19977.000000        2114.000000   \n",
      "75%        24.000000       5.000000           20368.000000        3902.000000   \n",
      "max        31.000000       7.000000           20452.000000        7439.000000   \n",
      "\n",
      "       ORIGIN_AIRPORT_ID  ORIGIN_AIRPORT_SEQ_ID  DEST_AIRPORT_ID  \\\n",
      "count      583985.000000           5.839850e+05    583985.000000   \n",
      "mean        12659.701982           1.265974e+06     12659.470015   \n",
      "std          1519.405493           1.519403e+05      1519.336466   \n",
      "min         10135.000000           1.013505e+06     10135.000000   \n",
      "25%         11292.000000           1.129202e+06     11292.000000   \n",
      "50%         12889.000000           1.288903e+06     12889.000000   \n",
      "75%         13931.000000           1.393102e+06     13931.000000   \n",
      "max         16218.000000           1.621802e+06     16218.000000   \n",
      "\n",
      "       DEST_AIRPORT_SEQ_ID       DEP_TIME      DEP_DEL15       ARR_TIME  \\\n",
      "count         5.839850e+05  567633.000000  567630.000000  566924.000000   \n",
      "mean          1.265951e+06    1331.957814       0.174281    1484.315921   \n",
      "std           1.519334e+05     495.404020       0.379351     523.162855   \n",
      "min           1.013505e+06       1.000000       0.000000       1.000000   \n",
      "25%           1.129202e+06     921.000000       0.000000    1104.000000   \n",
      "50%           1.288903e+06    1328.000000       0.000000    1517.000000   \n",
      "75%           1.393102e+06    1738.000000       0.000000    1919.000000   \n",
      "max           1.621802e+06    2400.000000       1.000000    2400.000000   \n",
      "\n",
      "           ARR_DEL15      CANCELLED       DIVERTED       DISTANCE  \n",
      "count  565963.000000  583985.000000  583985.000000  583985.000000  \n",
      "mean        0.185917       0.028641       0.002219     797.742767  \n",
      "std         0.389040       0.166796       0.047056     589.999261  \n",
      "min         0.000000       0.000000       0.000000      31.000000  \n",
      "25%         0.000000       0.000000       0.000000     363.000000  \n",
      "50%         0.000000       0.000000       0.000000     640.000000  \n",
      "75%         0.000000       0.000000       0.000000    1037.000000  \n",
      "max         1.000000       1.000000       1.000000    4983.000000  \n",
      "DAY_OF_MONTH               int64\n",
      "DAY_OF_WEEK                int64\n",
      "OP_UNIQUE_CARRIER         object\n",
      "OP_CARRIER_AIRLINE_ID      int64\n",
      "OP_CARRIER                object\n",
      "TAIL_NUM                  object\n",
      "OP_CARRIER_FL_NUM          int64\n",
      "ORIGIN_AIRPORT_ID          int64\n",
      "ORIGIN_AIRPORT_SEQ_ID      int64\n",
      "ORIGIN                    object\n",
      "DEST_AIRPORT_ID            int64\n",
      "DEST_AIRPORT_SEQ_ID        int64\n",
      "DEST                      object\n",
      "DEP_TIME                 float64\n",
      "DEP_DEL15                float64\n",
      "DEP_TIME_BLK              object\n",
      "ARR_TIME                 float64\n",
      "ARR_DEL15                float64\n",
      "CANCELLED                float64\n",
      "DIVERTED                 float64\n",
      "DISTANCE                 float64\n",
      "dtype: object\n"
     ]
    }
   ],
   "source": [
    "print(df19.shape)\n",
    "print(df19.describe())\n",
    "print(df19.dtypes)"
   ]
  },
  {
   "cell_type": "code",
   "execution_count": 5,
   "metadata": {
    "colab": {
     "base_uri": "https://localhost:8080/",
     "height": 421
    },
    "colab_type": "code",
    "id": "r98E3Seqv7U0",
    "outputId": "35ded3c1-fc6c-4306-ff51-924e931237bd"
   },
   "outputs": [
    {
     "data": {
      "text/plain": [
       "DAY_OF_MONTH                 0\n",
       "DAY_OF_WEEK                  0\n",
       "OP_UNIQUE_CARRIER            0\n",
       "OP_CARRIER_AIRLINE_ID        0\n",
       "OP_CARRIER                   0\n",
       "TAIL_NUM                  2543\n",
       "OP_CARRIER_FL_NUM            0\n",
       "ORIGIN_AIRPORT_ID            0\n",
       "ORIGIN_AIRPORT_SEQ_ID        0\n",
       "ORIGIN                       0\n",
       "DEST_AIRPORT_ID              0\n",
       "DEST_AIRPORT_SEQ_ID          0\n",
       "DEST                         0\n",
       "DEP_TIME                 16352\n",
       "DEP_DEL15                16355\n",
       "DEP_TIME_BLK                 0\n",
       "ARR_TIME                 17061\n",
       "ARR_DEL15                18022\n",
       "CANCELLED                    0\n",
       "DIVERTED                     0\n",
       "DISTANCE                     0\n",
       "dtype: int64"
      ]
     },
     "execution_count": 5,
     "metadata": {},
     "output_type": "execute_result"
    }
   ],
   "source": [
    "# Number of NaN values in df for each column\n",
    "df19.isna().sum()"
   ]
  },
  {
   "cell_type": "code",
   "execution_count": 6,
   "metadata": {
    "colab": {
     "base_uri": "https://localhost:8080/",
     "height": 35
    },
    "colab_type": "code",
    "id": "3d57JfEYfMY6",
    "outputId": "302187cf-899e-4532-ded8-3359a6bdc563"
   },
   "outputs": [
    {
     "name": "stdout",
     "output_type": "stream",
     "text": [
      "(565963, 21)\n"
     ]
    }
   ],
   "source": [
    "# dropped NaN values in df\n",
    "df19 = df19.dropna()\n",
    "print(df19.shape)"
   ]
  },
  {
   "cell_type": "code",
   "execution_count": 7,
   "metadata": {
    "colab": {
     "base_uri": "https://localhost:8080/",
     "height": 421
    },
    "colab_type": "code",
    "id": "f3vjnhpew8Mc",
    "outputId": "0f141cc3-a23d-4fd0-99e8-d713066b2d06"
   },
   "outputs": [
    {
     "data": {
      "text/plain": [
       "DAY_OF_MONTH               31\n",
       "DAY_OF_WEEK                 7\n",
       "OP_UNIQUE_CARRIER          17\n",
       "OP_CARRIER_AIRLINE_ID      17\n",
       "OP_CARRIER                 17\n",
       "TAIL_NUM                 5441\n",
       "OP_CARRIER_FL_NUM        6833\n",
       "ORIGIN_AIRPORT_ID         346\n",
       "ORIGIN_AIRPORT_SEQ_ID     346\n",
       "ORIGIN                    346\n",
       "DEST_AIRPORT_ID           346\n",
       "DEST_AIRPORT_SEQ_ID       346\n",
       "DEST                      346\n",
       "DEP_TIME                 1438\n",
       "DEP_DEL15                   2\n",
       "DEP_TIME_BLK               19\n",
       "ARR_TIME                 1440\n",
       "ARR_DEL15                   2\n",
       "CANCELLED                   1\n",
       "DIVERTED                    1\n",
       "DISTANCE                 1451\n",
       "dtype: int64"
      ]
     },
     "execution_count": 7,
     "metadata": {},
     "output_type": "execute_result"
    }
   ],
   "source": [
    "# Number of Unique elements in df\n",
    "df19.nunique()"
   ]
  },
  {
   "cell_type": "code",
   "execution_count": 197,
   "metadata": {
    "colab": {},
    "colab_type": "code",
    "id": "v1RudMxLxfTi"
   },
   "outputs": [],
   "source": [
    "#Remove columns which won't be used\n",
    "df_red = df19.drop([ 'OP_CARRIER_AIRLINE_ID', 'OP_CARRIER', 'TAIL_NUM', 'OP_CARRIER_FL_NUM',\n",
    "       'ORIGIN_AIRPORT_ID', 'ORIGIN_AIRPORT_SEQ_ID', 'DEST_AIRPORT_ID', 'DEST_AIRPORT_SEQ_ID', 'DEP_TIME',\n",
    "       'CANCELLED','ARR_TIME',\n",
    "       'DIVERTED'], axis = 1)"
   ]
  },
  {
   "cell_type": "code",
   "execution_count": 198,
   "metadata": {
    "colab": {
     "base_uri": "https://localhost:8080/",
     "height": 206
    },
    "colab_type": "code",
    "id": "lgXDQm6exe-F",
    "outputId": "81e734fa-831a-4acf-a771-d695ddadb0f8"
   },
   "outputs": [
    {
     "data": {
      "text/html": [
       "<div>\n",
       "<style scoped>\n",
       "    .dataframe tbody tr th:only-of-type {\n",
       "        vertical-align: middle;\n",
       "    }\n",
       "\n",
       "    .dataframe tbody tr th {\n",
       "        vertical-align: top;\n",
       "    }\n",
       "\n",
       "    .dataframe thead th {\n",
       "        text-align: right;\n",
       "    }\n",
       "</style>\n",
       "<table border=\"1\" class=\"dataframe\">\n",
       "  <thead>\n",
       "    <tr style=\"text-align: right;\">\n",
       "      <th></th>\n",
       "      <th>DAY_OF_MONTH</th>\n",
       "      <th>DAY_OF_WEEK</th>\n",
       "      <th>OP_UNIQUE_CARRIER</th>\n",
       "      <th>ORIGIN</th>\n",
       "      <th>DEST</th>\n",
       "      <th>DEP_DEL15</th>\n",
       "      <th>DEP_TIME_BLK</th>\n",
       "      <th>ARR_DEL15</th>\n",
       "      <th>DISTANCE</th>\n",
       "    </tr>\n",
       "  </thead>\n",
       "  <tbody>\n",
       "    <tr>\n",
       "      <th>0</th>\n",
       "      <td>1</td>\n",
       "      <td>2</td>\n",
       "      <td>9E</td>\n",
       "      <td>GNV</td>\n",
       "      <td>ATL</td>\n",
       "      <td>0.0</td>\n",
       "      <td>0600-0659</td>\n",
       "      <td>0.0</td>\n",
       "      <td>300.0</td>\n",
       "    </tr>\n",
       "    <tr>\n",
       "      <th>1</th>\n",
       "      <td>1</td>\n",
       "      <td>2</td>\n",
       "      <td>9E</td>\n",
       "      <td>MSP</td>\n",
       "      <td>CVG</td>\n",
       "      <td>0.0</td>\n",
       "      <td>1400-1459</td>\n",
       "      <td>0.0</td>\n",
       "      <td>596.0</td>\n",
       "    </tr>\n",
       "    <tr>\n",
       "      <th>2</th>\n",
       "      <td>1</td>\n",
       "      <td>2</td>\n",
       "      <td>9E</td>\n",
       "      <td>DTW</td>\n",
       "      <td>CVG</td>\n",
       "      <td>0.0</td>\n",
       "      <td>1200-1259</td>\n",
       "      <td>0.0</td>\n",
       "      <td>229.0</td>\n",
       "    </tr>\n",
       "    <tr>\n",
       "      <th>3</th>\n",
       "      <td>1</td>\n",
       "      <td>2</td>\n",
       "      <td>9E</td>\n",
       "      <td>TLH</td>\n",
       "      <td>ATL</td>\n",
       "      <td>0.0</td>\n",
       "      <td>1500-1559</td>\n",
       "      <td>0.0</td>\n",
       "      <td>223.0</td>\n",
       "    </tr>\n",
       "    <tr>\n",
       "      <th>4</th>\n",
       "      <td>1</td>\n",
       "      <td>2</td>\n",
       "      <td>9E</td>\n",
       "      <td>ATL</td>\n",
       "      <td>FSM</td>\n",
       "      <td>0.0</td>\n",
       "      <td>1900-1959</td>\n",
       "      <td>0.0</td>\n",
       "      <td>579.0</td>\n",
       "    </tr>\n",
       "  </tbody>\n",
       "</table>\n",
       "</div>"
      ],
      "text/plain": [
       "   DAY_OF_MONTH  DAY_OF_WEEK OP_UNIQUE_CARRIER ORIGIN DEST  DEP_DEL15  \\\n",
       "0             1            2                9E    GNV  ATL        0.0   \n",
       "1             1            2                9E    MSP  CVG        0.0   \n",
       "2             1            2                9E    DTW  CVG        0.0   \n",
       "3             1            2                9E    TLH  ATL        0.0   \n",
       "4             1            2                9E    ATL  FSM        0.0   \n",
       "\n",
       "  DEP_TIME_BLK  ARR_DEL15  DISTANCE  \n",
       "0    0600-0659        0.0     300.0  \n",
       "1    1400-1459        0.0     596.0  \n",
       "2    1200-1259        0.0     229.0  \n",
       "3    1500-1559        0.0     223.0  \n",
       "4    1900-1959        0.0     579.0  "
      ]
     },
     "execution_count": 198,
     "metadata": {},
     "output_type": "execute_result"
    }
   ],
   "source": [
    "df_red.head()"
   ]
  },
  {
   "cell_type": "code",
   "execution_count": 163,
   "metadata": {
    "colab": {
     "base_uri": "https://localhost:8080/",
     "height": 301
    },
    "colab_type": "code",
    "id": "U-W0Abbvxevt",
    "outputId": "b57f8523-c038-4b30-e33f-6b9dc04530fe"
   },
   "outputs": [
    {
     "data": {
      "text/plain": [
       "<matplotlib.axes._subplots.AxesSubplot at 0x247a6e47e20>"
      ]
     },
     "execution_count": 163,
     "metadata": {},
     "output_type": "execute_result"
    },
    {
     "data": {
      "image/png": "[encoded data removed]",
      "text/plain": [
       "<Figure size 576x396 with 1 Axes>"
      ]
     },
     "metadata": {},
     "output_type": "display_data"
    }
   ],
   "source": [
    "#all delayed flights by weekday\n",
    "sb.countplot(x = df_red['ARR_DEL15'], hue = df_red['DAY_OF_WEEK'])"
   ]
  },
  {
   "cell_type": "code",
   "execution_count": 164,
   "metadata": {
    "colab": {
     "base_uri": "https://localhost:8080/",
     "height": 334
    },
    "colab_type": "code",
    "id": "kO5KFlxXxcgo",
    "outputId": "d9fb25b3-ac19-4f2d-8037-daadb926975d"
   },
   "outputs": [
    {
     "data": {
      "image/png": "[encoded data removed]",
      "text/plain": [
       "<Figure size 288x360 with 1 Axes>"
      ]
     },
     "metadata": {},
     "output_type": "display_data"
    }
   ],
   "source": [
    "#all flights per day\n",
    "f, ax = plt.subplots()\n",
    "sb.countplot(x = df_red['DAY_OF_WEEK'])\n",
    "f.set_size_inches(4,5)"
   ]
  },
  {
   "cell_type": "markdown",
   "metadata": {
    "colab_type": "text",
    "id": "nAjeYKADx7WT"
   },
   "source": [
    "Seems like we need to normalize the delayed flights per day to the total number of flights per day"
   ]
  },
  {
   "cell_type": "code",
   "execution_count": 165,
   "metadata": {
    "colab": {
     "base_uri": "https://localhost:8080/",
     "height": 410
    },
    "colab_type": "code",
    "id": "Cftr1v-Vw7Un",
    "outputId": "4e388bcc-e708-4a6f-d040-242ce05ce4af"
   },
   "outputs": [
    {
     "data": {
      "text/plain": [
       "Text(0, 0.5, 'Fraction of flights delayed')"
      ]
     },
     "execution_count": 165,
     "metadata": {},
     "output_type": "execute_result"
    },
    {
     "data": {
      "image/png": "[encoded data removed]",
      "text/plain": [
       "<Figure size 576x432 with 1 Axes>"
      ]
     },
     "metadata": {},
     "output_type": "display_data"
    }
   ],
   "source": [
    "from matplotlib.pyplot import figure\n",
    "figure(num=None, figsize=(8, 6))\n",
    "plt.bar(x = df_red['DAY_OF_WEEK'].unique(), height = df_red.groupby(['DAY_OF_WEEK'])['ARR_DEL15'].mean())\n",
    "plt.ylim([0, 0.25])\n",
    "plt.xlabel('Day of week')\n",
    "plt.ylabel('Fraction of flights delayed')"
   ]
  },
  {
   "cell_type": "code",
   "execution_count": 404,
   "metadata": {},
   "outputs": [
    {
     "data": {
      "text/plain": [
       "Text(0, 0.5, 'Fraction of flights delayed')"
      ]
     },
     "execution_count": 404,
     "metadata": {},
     "output_type": "execute_result"
    },
    {
     "data": {
      "image/png": "[encoded data removed]",
      "text/plain": [
       "<Figure size 1296x432 with 1 Axes>"
      ]
     },
     "metadata": {},
     "output_type": "display_data"
    }
   ],
   "source": [
    "figure(num=None, figsize=(18, 6))\n",
    "plt.bar(x = df_red['DAY_OF_MONTH'].unique(), height = df_red.groupby(['DAY_OF_MONTH'])['ARR_DEL15'].mean())\n",
    "plt.ylim([0, 0.25])\n",
    "plt.xlabel('Day of month')\n",
    "plt.ylabel('Fraction of flights delayed')"
   ]
  },
  {
   "cell_type": "markdown",
   "metadata": {
    "colab_type": "text",
    "id": "nFQDHXlbHnXW"
   },
   "source": [
    "As can be seen the fraction of flights delayed per day looks different from the total delayed flights. Highest proportion is day 5 as opposed to day 4 in raw total numbers"
   ]
  },
  {
   "cell_type": "code",
   "execution_count": 202,
   "metadata": {
    "colab": {
     "base_uri": "https://localhost:8080/",
     "height": 410
    },
    "colab_type": "code",
    "id": "C-r09zXNx-QP",
    "outputId": "1ab9d02f-c705-434c-cc88-3660b07d88af"
   },
   "outputs": [
    {
     "data": {
      "text/plain": [
       "Text(0, 0.5, 'Fraction of flights delayed')"
      ]
     },
     "execution_count": 202,
     "metadata": {},
     "output_type": "execute_result"
    },
    {
     "data": {
      "image/png": "[encoded data removed]",
      "text/plain": [
       "<Figure size 1296x432 with 1 Axes>"
      ]
     },
     "metadata": {},
     "output_type": "display_data"
    }
   ],
   "source": [
    "figure(num=None, figsize=(18, 6))\n",
    "plt.bar(x = df_red['OP_UNIQUE_CARRIER'].unique(), height = df_red.groupby(['OP_UNIQUE_CARRIER']).mean()['ARR_DEL15'])\n",
    "plt.ylim([0, 0.3])\n",
    "plt.xlabel('Carrier')\n",
    "plt.ylabel('Fraction of flights delayed')"
   ]
  },
  {
   "cell_type": "code",
   "execution_count": 203,
   "metadata": {
    "colab": {
     "base_uri": "https://localhost:8080/",
     "height": 410
    },
    "colab_type": "code",
    "id": "uM3FLzx_x-Ct",
    "outputId": "f301ee60-39ab-47c0-d066-860bedd4836d"
   },
   "outputs": [
    {
     "data": {
      "text/plain": [
       "Text(0, 0.5, 'Fraction of flights delayed')"
      ]
     },
     "execution_count": 203,
     "metadata": {},
     "output_type": "execute_result"
    },
    {
     "data": {
      "image/png": "[encoded data removed]",
      "text/plain": [
       "<Figure size 1728x432 with 1 Axes>"
      ]
     },
     "metadata": {},
     "output_type": "display_data"
    }
   ],
   "source": [
    "figure(num=None, figsize=(24, 6))\n",
    "plt.bar(x = df_red['DEP_TIME_BLK'].unique(), height = df_red.groupby(['DEP_TIME_BLK']).mean()['ARR_DEL15'])\n",
    "plt.ylim([0., 0.25])\n",
    "plt.xlabel('Departure Time')\n",
    "plt.ylabel('Fraction of flights delayed')"
   ]
  },
  {
   "cell_type": "markdown",
   "metadata": {},
   "source": [
    "List below shows what departure time results in most delays proportionally--it can be seen that it's the 1800-18:59 time slot:"
   ]
  },
  {
   "cell_type": "markdown",
   "metadata": {},
   "source": [
    "Lowest and Highest ratio of delayed flights by Destination shown below; do not fly to Ogden city as you have a 50% chance of being late:"
   ]
  },
  {
   "cell_type": "code",
   "execution_count": 205,
   "metadata": {
    "colab": {
     "base_uri": "https://localhost:8080/",
     "height": 256
    },
    "colab_type": "code",
    "id": "gWkVEZVSx9n_",
    "outputId": "636a3d61-c051-4490-8cac-2b916720d6b6"
   },
   "outputs": [
    {
     "data": {
      "text/plain": [
       "DEST\n",
       "ELM    0.000000\n",
       "CPR    0.044118\n",
       "LWS    0.047619\n",
       "DRT    0.050847\n",
       "BTM    0.051724\n",
       "         ...   \n",
       "HGR    0.400000\n",
       "MKG    0.425532\n",
       "MMH    0.440000\n",
       "OGS    0.500000\n",
       "OGD    0.500000\n",
       "Name: ARR_DEL15, Length: 346, dtype: float64"
      ]
     },
     "execution_count": 205,
     "metadata": {},
     "output_type": "execute_result"
    }
   ],
   "source": [
    "df_red.groupby(['DEST']).mean()['ARR_DEL15'].sort_values()"
   ]
  },
  {
   "cell_type": "markdown",
   "metadata": {},
   "source": [
    "Lowest and Highest ratio of delayed flights by Origin shown below; Ogden City again stands out:"
   ]
  },
  {
   "cell_type": "code",
   "execution_count": 206,
   "metadata": {
    "colab": {
     "base_uri": "https://localhost:8080/",
     "height": 256
    },
    "colab_type": "code",
    "id": "xLguuh32ykKt",
    "outputId": "cf823b96-d5f5-487c-9739-c6fc2b6fff7e"
   },
   "outputs": [
    {
     "data": {
      "text/plain": [
       "ORIGIN\n",
       "LYH    0.000000\n",
       "PPG    0.000000\n",
       "CPR    0.014706\n",
       "LWS    0.031250\n",
       "BRW    0.033333\n",
       "         ...   \n",
       "ACV    0.429825\n",
       "VEL    0.434783\n",
       "OWB    0.444444\n",
       "OGD    0.500000\n",
       "OGS    0.600000\n",
       "Name: ARR_DEL15, Length: 346, dtype: float64"
      ]
     },
     "execution_count": 206,
     "metadata": {},
     "output_type": "execute_result"
    }
   ],
   "source": [
    "#delayed_norm['ORIGIN'] = df_red['ORIGIN']\n",
    "df_red.groupby(['ORIGIN']).mean()['ARR_DEL15'].sort_values()"
   ]
  },
  {
   "cell_type": "markdown",
   "metadata": {},
   "source": [
    "Let us check whether delayed departure translates to also delayed arrival:"
   ]
  },
  {
   "cell_type": "code",
   "execution_count": 207,
   "metadata": {
    "colab": {
     "base_uri": "https://localhost:8080/",
     "height": 297
    },
    "colab_type": "code",
    "id": "Eqwnt2StykF0",
    "outputId": "3902b308-2c62-4369-d2d6-bfa6c24326e4"
   },
   "outputs": [
    {
     "data": {
      "text/plain": [
       "<matplotlib.axes._subplots.AxesSubplot at 0x247a4f425b0>"
      ]
     },
     "execution_count": 207,
     "metadata": {},
     "output_type": "execute_result"
    },
    {
     "data": {
      "image/png": "[encoded data removed]",
      "text/plain": [
       "<Figure size 576x396 with 1 Axes>"
      ]
     },
     "metadata": {},
     "output_type": "display_data"
    }
   ],
   "source": [
    "#Check by delay in departure\n",
    "sb.countplot(x = df_red['ARR_DEL15'], hue = df_red['DEP_DEL15'])"
   ]
  },
  {
   "cell_type": "markdown",
   "metadata": {
    "colab_type": "text",
    "id": "c4ONFxv5zCMO"
   },
   "source": [
    "As expected, flights that leave late also (mostly) arrive late. Let us now look at distance traveled below:"
   ]
  },
  {
   "cell_type": "code",
   "execution_count": 208,
   "metadata": {
    "colab": {
     "base_uri": "https://localhost:8080/",
     "height": 297
    },
    "colab_type": "code",
    "id": "yXKFioW4yj_j",
    "outputId": "8a009992-5b71-431b-91f4-75ce9bdbbf97"
   },
   "outputs": [
    {
     "data": {
      "text/plain": [
       "<matplotlib.axes._subplots.AxesSubplot at 0x247a34a5c70>"
      ]
     },
     "execution_count": 208,
     "metadata": {},
     "output_type": "execute_result"
    },
    {
     "data": {
      "image/png": "[encoded data removed]",
      "text/plain": [
       "<Figure size 576x396 with 1 Axes>"
      ]
     },
     "metadata": {},
     "output_type": "display_data"
    }
   ],
   "source": [
    "sb.boxplot('DEP_DEL15', 'DISTANCE', data=df_red, orient='v')"
   ]
  },
  {
   "cell_type": "code",
   "execution_count": 209,
   "metadata": {
    "colab": {
     "base_uri": "https://localhost:8080/",
     "height": 90
    },
    "colab_type": "code",
    "id": "7THRArmryj71",
    "outputId": "7ac6b746-06e7-45c2-8fda-86e96065d6a7"
   },
   "outputs": [
    {
     "data": {
      "text/plain": [
       "DEP_DEL15\n",
       "0.0    799.301073\n",
       "1.0    817.114257\n",
       "Name: DISTANCE, dtype: float64"
      ]
     },
     "execution_count": 209,
     "metadata": {},
     "output_type": "execute_result"
    }
   ],
   "source": [
    "df_red.groupby(['DEP_DEL15']).mean()['DISTANCE']"
   ]
  },
  {
   "cell_type": "code",
   "execution_count": 210,
   "metadata": {
    "colab": {
     "base_uri": "https://localhost:8080/",
     "height": 90
    },
    "colab_type": "code",
    "id": "chGe5ZSnyj3d",
    "outputId": "9f945b12-d58c-40da-d35e-52b7b9881314"
   },
   "outputs": [
    {
     "data": {
      "text/plain": [
       "DEP_DEL15\n",
       "0.0    637.0\n",
       "1.0    674.0\n",
       "Name: DISTANCE, dtype: float64"
      ]
     },
     "execution_count": 210,
     "metadata": {},
     "output_type": "execute_result"
    }
   ],
   "source": [
    "df_red.groupby(['DEP_DEL15']).median()['DISTANCE']"
   ]
  },
  {
   "cell_type": "markdown",
   "metadata": {
    "colab_type": "text",
    "id": "-253aEoKzSQZ"
   },
   "source": [
    "There seems to be a slightly higher distance traveled for flights that were delayed. Let us do a t-test to check whether this difference is statistically significant"
   ]
  },
  {
   "cell_type": "code",
   "execution_count": 211,
   "metadata": {
    "colab": {
     "base_uri": "https://localhost:8080/",
     "height": 35
    },
    "colab_type": "code",
    "id": "j3AaA3pbyjyb",
    "outputId": "7489324b-338c-4b2a-b9a2-891a34c07fef"
   },
   "outputs": [
    {
     "data": {
      "text/plain": [
       "Ttest_indResult(statistic=2.5804047623776594, pvalue=0.009869350308986821)"
      ]
     },
     "execution_count": 211,
     "metadata": {},
     "output_type": "execute_result"
    }
   ],
   "source": [
    "stats.ttest_ind(df_red[df_red['ARR_DEL15'] == 1]['DISTANCE'], df_red[df_red['ARR_DEL15'] == 0]['DISTANCE'], equal_var=False)"
   ]
  },
  {
   "cell_type": "markdown",
   "metadata": {
    "colab_type": "text",
    "id": "_cYYHKv5zYhZ"
   },
   "source": [
    "It is significant!\n",
    "\n",
    "Finally dummyfying variables for categorical variables: OP_UNIQUE_CARRIER', 'ORIGIN', 'DEST','DEP_TIME_BLK',  'DAY_OF_WEEK and normalizing the 'DISTANCE"
   ]
  },
  {
   "cell_type": "code",
   "execution_count": 212,
   "metadata": {},
   "outputs": [],
   "source": [
    "df_dum = pd.get_dummies(df_red, columns = ['ORIGIN', \n",
    "                                           'DEST', \n",
    "                                           'OP_UNIQUE_CARRIER', \n",
    "                                           'DEP_TIME_BLK', \n",
    "                                           'DAY_OF_WEEK'])"
   ]
  },
  {
   "cell_type": "code",
   "execution_count": 213,
   "metadata": {},
   "outputs": [],
   "source": [
    "mean = df_dum['DISTANCE'].mean()\n",
    "std =  df_dum['DISTANCE'].std()\n",
    "df_dum['DISTANCE'] = (df_dum['DISTANCE'] - mean)/std"
   ]
  },
  {
   "cell_type": "code",
   "execution_count": 214,
   "metadata": {},
   "outputs": [
    {
     "data": {
      "text/html": [
       "<div>\n",
       "<style scoped>\n",
       "    .dataframe tbody tr th:only-of-type {\n",
       "        vertical-align: middle;\n",
       "    }\n",
       "\n",
       "    .dataframe tbody tr th {\n",
       "        vertical-align: top;\n",
       "    }\n",
       "\n",
       "    .dataframe thead th {\n",
       "        text-align: right;\n",
       "    }\n",
       "</style>\n",
       "<table border=\"1\" class=\"dataframe\">\n",
       "  <thead>\n",
       "    <tr style=\"text-align: right;\">\n",
       "      <th></th>\n",
       "      <th>DAY_OF_MONTH</th>\n",
       "      <th>DEP_DEL15</th>\n",
       "      <th>ARR_DEL15</th>\n",
       "      <th>DISTANCE</th>\n",
       "      <th>ORIGIN_ABE</th>\n",
       "      <th>ORIGIN_ABI</th>\n",
       "      <th>ORIGIN_ABQ</th>\n",
       "      <th>ORIGIN_ABR</th>\n",
       "      <th>ORIGIN_ABY</th>\n",
       "      <th>ORIGIN_ACT</th>\n",
       "      <th>...</th>\n",
       "      <th>DEP_TIME_BLK_2100-2159</th>\n",
       "      <th>DEP_TIME_BLK_2200-2259</th>\n",
       "      <th>DEP_TIME_BLK_2300-2359</th>\n",
       "      <th>DAY_OF_WEEK_1</th>\n",
       "      <th>DAY_OF_WEEK_2</th>\n",
       "      <th>DAY_OF_WEEK_3</th>\n",
       "      <th>DAY_OF_WEEK_4</th>\n",
       "      <th>DAY_OF_WEEK_5</th>\n",
       "      <th>DAY_OF_WEEK_6</th>\n",
       "      <th>DAY_OF_WEEK_7</th>\n",
       "    </tr>\n",
       "  </thead>\n",
       "  <tbody>\n",
       "    <tr>\n",
       "      <th>0</th>\n",
       "      <td>1</td>\n",
       "      <td>0.0</td>\n",
       "      <td>0.0</td>\n",
       "      <td>-0.848173</td>\n",
       "      <td>0</td>\n",
       "      <td>0</td>\n",
       "      <td>0</td>\n",
       "      <td>0</td>\n",
       "      <td>0</td>\n",
       "      <td>0</td>\n",
       "      <td>...</td>\n",
       "      <td>0</td>\n",
       "      <td>0</td>\n",
       "      <td>0</td>\n",
       "      <td>0</td>\n",
       "      <td>1</td>\n",
       "      <td>0</td>\n",
       "      <td>0</td>\n",
       "      <td>0</td>\n",
       "      <td>0</td>\n",
       "      <td>0</td>\n",
       "    </tr>\n",
       "    <tr>\n",
       "      <th>1</th>\n",
       "      <td>1</td>\n",
       "      <td>0.0</td>\n",
       "      <td>0.0</td>\n",
       "      <td>-0.348448</td>\n",
       "      <td>0</td>\n",
       "      <td>0</td>\n",
       "      <td>0</td>\n",
       "      <td>0</td>\n",
       "      <td>0</td>\n",
       "      <td>0</td>\n",
       "      <td>...</td>\n",
       "      <td>0</td>\n",
       "      <td>0</td>\n",
       "      <td>0</td>\n",
       "      <td>0</td>\n",
       "      <td>1</td>\n",
       "      <td>0</td>\n",
       "      <td>0</td>\n",
       "      <td>0</td>\n",
       "      <td>0</td>\n",
       "      <td>0</td>\n",
       "    </tr>\n",
       "    <tr>\n",
       "      <th>2</th>\n",
       "      <td>1</td>\n",
       "      <td>0.0</td>\n",
       "      <td>0.0</td>\n",
       "      <td>-0.968039</td>\n",
       "      <td>0</td>\n",
       "      <td>0</td>\n",
       "      <td>0</td>\n",
       "      <td>0</td>\n",
       "      <td>0</td>\n",
       "      <td>0</td>\n",
       "      <td>...</td>\n",
       "      <td>0</td>\n",
       "      <td>0</td>\n",
       "      <td>0</td>\n",
       "      <td>0</td>\n",
       "      <td>1</td>\n",
       "      <td>0</td>\n",
       "      <td>0</td>\n",
       "      <td>0</td>\n",
       "      <td>0</td>\n",
       "      <td>0</td>\n",
       "    </tr>\n",
       "    <tr>\n",
       "      <th>3</th>\n",
       "      <td>1</td>\n",
       "      <td>0.0</td>\n",
       "      <td>0.0</td>\n",
       "      <td>-0.978169</td>\n",
       "      <td>0</td>\n",
       "      <td>0</td>\n",
       "      <td>0</td>\n",
       "      <td>0</td>\n",
       "      <td>0</td>\n",
       "      <td>0</td>\n",
       "      <td>...</td>\n",
       "      <td>0</td>\n",
       "      <td>0</td>\n",
       "      <td>0</td>\n",
       "      <td>0</td>\n",
       "      <td>1</td>\n",
       "      <td>0</td>\n",
       "      <td>0</td>\n",
       "      <td>0</td>\n",
       "      <td>0</td>\n",
       "      <td>0</td>\n",
       "    </tr>\n",
       "    <tr>\n",
       "      <th>4</th>\n",
       "      <td>1</td>\n",
       "      <td>0.0</td>\n",
       "      <td>0.0</td>\n",
       "      <td>-0.377149</td>\n",
       "      <td>0</td>\n",
       "      <td>0</td>\n",
       "      <td>0</td>\n",
       "      <td>0</td>\n",
       "      <td>0</td>\n",
       "      <td>0</td>\n",
       "      <td>...</td>\n",
       "      <td>0</td>\n",
       "      <td>0</td>\n",
       "      <td>0</td>\n",
       "      <td>0</td>\n",
       "      <td>1</td>\n",
       "      <td>0</td>\n",
       "      <td>0</td>\n",
       "      <td>0</td>\n",
       "      <td>0</td>\n",
       "      <td>0</td>\n",
       "    </tr>\n",
       "  </tbody>\n",
       "</table>\n",
       "<p>5 rows × 739 columns</p>\n",
       "</div>"
      ],
      "text/plain": [
       "   DAY_OF_MONTH  DEP_DEL15  ARR_DEL15  DISTANCE  ORIGIN_ABE  ORIGIN_ABI  \\\n",
       "0             1        0.0        0.0 -0.848173           0           0   \n",
       "1             1        0.0        0.0 -0.348448           0           0   \n",
       "2             1        0.0        0.0 -0.968039           0           0   \n",
       "3             1        0.0        0.0 -0.978169           0           0   \n",
       "4             1        0.0        0.0 -0.377149           0           0   \n",
       "\n",
       "   ORIGIN_ABQ  ORIGIN_ABR  ORIGIN_ABY  ORIGIN_ACT  ...  \\\n",
       "0           0           0           0           0  ...   \n",
       "1           0           0           0           0  ...   \n",
       "2           0           0           0           0  ...   \n",
       "3           0           0           0           0  ...   \n",
       "4           0           0           0           0  ...   \n",
       "\n",
       "   DEP_TIME_BLK_2100-2159  DEP_TIME_BLK_2200-2259  DEP_TIME_BLK_2300-2359  \\\n",
       "0                       0                       0                       0   \n",
       "1                       0                       0                       0   \n",
       "2                       0                       0                       0   \n",
       "3                       0                       0                       0   \n",
       "4                       0                       0                       0   \n",
       "\n",
       "   DAY_OF_WEEK_1  DAY_OF_WEEK_2  DAY_OF_WEEK_3  DAY_OF_WEEK_4  DAY_OF_WEEK_5  \\\n",
       "0              0              1              0              0              0   \n",
       "1              0              1              0              0              0   \n",
       "2              0              1              0              0              0   \n",
       "3              0              1              0              0              0   \n",
       "4              0              1              0              0              0   \n",
       "\n",
       "   DAY_OF_WEEK_6  DAY_OF_WEEK_7  \n",
       "0              0              0  \n",
       "1              0              0  \n",
       "2              0              0  \n",
       "3              0              0  \n",
       "4              0              0  \n",
       "\n",
       "[5 rows x 739 columns]"
      ]
     },
     "execution_count": 214,
     "metadata": {},
     "output_type": "execute_result"
    }
   ],
   "source": [
    "df_dum.head()"
   ]
  },
  {
   "cell_type": "markdown",
   "metadata": {
    "colab_type": "text",
    "id": "mpUtcwN-XMqW"
   },
   "source": [
    "# Modeling <a id='Modeling'></a>\n",
    "\n",
    "We will be implementing logistics regresion, decision tree,  random forest and adaboost classifier, to predict whether a flight will be delayed or not. Lastly, neural network by using keras will be used to learn about delays. \n",
    "\n",
    "## Baseline <a id='Baseline'></a>\n",
    "\n",
    "Let us first estimate what a completely random estimate would give us (an estimate that does not rely on data science or machine learning at all)\n",
    "That is to say if we randomly guessed whether a flight would be late or not what our accuracy would be? Let's first get the proportion of flights that are late:"
   ]
  },
  {
   "cell_type": "code",
   "execution_count": 215,
   "metadata": {},
   "outputs": [
    {
     "data": {
      "text/plain": [
       "0.18591674720785634"
      ]
     },
     "execution_count": 215,
     "metadata": {},
     "output_type": "execute_result"
    }
   ],
   "source": [
    "df_dum[df_dum['ARR_DEL15']==1].shape[0]/df_dum.shape[0]"
   ]
  },
  {
   "cell_type": "markdown",
   "metadata": {},
   "source": [
    "So if we randomly guessed a flight would be late we'd be correct 18.6% of the time; if we randomly guessed a flight would not be late then we'd be correct 81.4% of the time. \n",
    "\n",
    "But there is a stricter baseline...It can be seen that most of the late departures also result in late arrivals. Can we predict our arrival delay just on departure delay? Let's see what fraction of late departures results in late arrivals:"
   ]
  },
  {
   "cell_type": "code",
   "execution_count": 403,
   "metadata": {},
   "outputs": [
    {
     "data": {
      "text/plain": [
       "DEP_DEL15\n",
       "0.0    0.057593\n",
       "1.0    0.796379\n",
       "Name: ARR_DEL15, dtype: float64"
      ]
     },
     "execution_count": 403,
     "metadata": {},
     "output_type": "execute_result"
    }
   ],
   "source": [
    "df_red.groupby(['DEP_DEL15']).mean()['ARR_DEL15']"
   ]
  },
  {
   "cell_type": "markdown",
   "metadata": {},
   "source": [
    "Only with the knowledge of departure delay if we claimed that it would also arrive late then we'd be correct 79.6% of the time. In reality this is the benchmark we should compare the models to..."
   ]
  },
  {
   "cell_type": "markdown",
   "metadata": {
    "colab_type": "text",
    "id": "gsKImCcT4Gr4"
   },
   "source": [
    "## Logistic Regression <a id='Logistic-Regression'></a>"
   ]
  },
  {
   "cell_type": "code",
   "execution_count": 216,
   "metadata": {
    "colab": {},
    "colab_type": "code",
    "id": "x-ntJDyt3eTE"
   },
   "outputs": [],
   "source": [
    "X = df_dum.drop(['ARR_DEL15'], axis = 1)\n",
    "y = df_dum['ARR_DEL15']"
   ]
  },
  {
   "cell_type": "code",
   "execution_count": 233,
   "metadata": {
    "colab": {},
    "colab_type": "code",
    "id": "TKFFMkVx3eOp"
   },
   "outputs": [],
   "source": [
    "X_train, X_test, y_train, y_test = train_test_split(X, y, test_size=0.5) # 50% training and 50% test"
   ]
  },
  {
   "cell_type": "markdown",
   "metadata": {},
   "source": [
    "Let's estimate best hyperparameters. Here's all that can be optimized:\n",
    "    \n",
    "    penalty='l2',\n",
    "    \n",
    "    dual=False,\n",
    "    \n",
    "    tol=0.0001,\n",
    "    \n",
    "    C=1.0,\n",
    "    \n",
    "    fit_intercept=True,\n",
    "    \n",
    "    intercept_scaling=1,\n",
    "    \n",
    "    class_weight=None,\n",
    "    \n",
    "    random_state=None,\n",
    "    \n",
    "    max_iter=100,\n",
    "    \n",
    "    multi_class='auto',\n",
    "    \n",
    "    verbose=0,\n",
    "    \n",
    "    warm_start=False,\n",
    "    \n",
    "    n_jobs=None,\n",
    "    \n",
    "    l1_ratio=None,\n",
    "    \n",
    " We'll work on optimizing C and penalty parameters:"
   ]
  },
  {
   "cell_type": "code",
   "execution_count": 250,
   "metadata": {
    "colab": {},
    "colab_type": "code",
    "id": "Qz4dE1SK3eFg",
    "scrolled": true
   },
   "outputs": [
    {
     "name": "stdout",
     "output_type": "stream",
     "text": [
      "tuned hyperparameters :(best parameters)  {'C': 0.1, 'penalty': 'l2'}\n",
      "accuracy : 0.916277069753559\n"
     ]
    }
   ],
   "source": [
    "lr_model = LogisticRegression(solver = 'saga', max_iter=1000)\n",
    "grid={'C':np.logspace(-5,-1,10), 'penalty':['l1','l2']}\n",
    "lr_model_cv = GridSearchCV(lr_model, grid, cv = 5)\n",
    "lr_model_cv.fit(X_train, y_train)\n",
    "\n",
    "print(\"tuned hyperparameters :(best parameters) \",lr_model_cv.best_params_)\n",
    "print(\"accuracy :\",lr_model_cv.best_score_)"
   ]
  },
  {
   "cell_type": "markdown",
   "metadata": {},
   "source": [
    "Let's redefine the model with the best fitting hyperparameters and then fit it to the training data:"
   ]
  },
  {
   "cell_type": "code",
   "execution_count": 368,
   "metadata": {},
   "outputs": [
    {
     "data": {
      "text/plain": [
       "LogisticRegression(C=0.1, max_iter=1000, solver='saga')"
      ]
     },
     "execution_count": 368,
     "metadata": {},
     "output_type": "execute_result"
    }
   ],
   "source": [
    "lr_model = LogisticRegression(C = lr_model_cv.best_params_['C'], \n",
    "                              penalty = lr_model_cv.best_params_['penalty'], \n",
    "                              max_iter=1000,\n",
    "                             solver = 'saga')\n",
    "\n",
    "lr_model.fit(X_train, y_train)"
   ]
  },
  {
   "cell_type": "markdown",
   "metadata": {},
   "source": [
    "Let's now look at the results:"
   ]
  },
  {
   "cell_type": "code",
   "execution_count": 369,
   "metadata": {
    "colab": {},
    "colab_type": "code",
    "id": "Wgt3NHrn3d14"
   },
   "outputs": [
    {
     "name": "stdout",
     "output_type": "stream",
     "text": [
      "Classification:\n",
      "               precision    recall  f1-score   support\n",
      "\n",
      "         0.0      0.943     0.957     0.950    230458\n",
      "         1.0      0.799     0.744     0.771     52524\n",
      "\n",
      "    accuracy                          0.918    282982\n",
      "   macro avg      0.871     0.851     0.860    282982\n",
      "weighted avg      0.916     0.918     0.917    282982\n",
      "\n"
     ]
    }
   ],
   "source": [
    "pred = lr_model.predict(X_test)\n",
    "\n",
    "print(\"Classification:\\n\",classification_report(y_test, pred, digits=3))"
   ]
  },
  {
   "cell_type": "code",
   "execution_count": 370,
   "metadata": {
    "colab": {
     "base_uri": "https://localhost:8080/",
     "height": 586
    },
    "colab_type": "code",
    "id": "PPi6I2Nn3diz",
    "outputId": "2efb970b-0907-4541-e7d8-841a2d206f63",
    "scrolled": false
   },
   "outputs": [
    {
     "name": "stderr",
     "output_type": "stream",
     "text": [
      "c:\\python37\\lib\\site-packages\\sklearn\\base.py:209: FutureWarning: From version 0.24, get_params will raise an AttributeError if a parameter cannot be retrieved as an instance attribute. Previously it would return None.\n",
      "  warnings.warn('From version 0.24, get_params will raise an '\n"
     ]
    },
    {
     "data": {
      "text/plain": [
       "<matplotlib.legend.Legend at 0x247b55947f0>"
      ]
     },
     "execution_count": 370,
     "metadata": {},
     "output_type": "execute_result"
    },
    {
     "data": {
      "image/png": "[encoded data removed]",
      "text/plain": [
       "<Figure size 576x396 with 1 Axes>"
      ]
     },
     "metadata": {},
     "output_type": "display_data"
    }
   ],
   "source": [
    "ax = plt.axes()\n",
    "visualizer = ROCAUC(lr_model, \n",
    "                    ax = ax,\n",
    "                    classes = ['Not Delayed', 'Delayed'])\n",
    "\n",
    "visualizer.fit(X_train, y_train)         \n",
    "visualizer.score(X_test, y_test)\n",
    "ax.set_title('Logistic Regression Model')\n",
    "ax.set_xlabel('False Positive Rate')\n",
    "ax.set_ylabel('True Positive Rate')\n",
    "ax.legend()"
   ]
  },
  {
   "cell_type": "markdown",
   "metadata": {},
   "source": [
    "Let's look at the coefficients of Logistic Regression:"
   ]
  },
  {
   "cell_type": "code",
   "execution_count": 255,
   "metadata": {},
   "outputs": [
    {
     "data": {
      "text/plain": [
       "array([ 1.17680386e-02,  4.16667767e+00, -3.06019016e-02,  2.33473318e-01,\n",
       "        9.26384082e-02, -5.77895991e-02,  3.02209816e-02, -2.12359890e-01,\n",
       "       -3.30404680e-01,  2.12139086e-01,  1.12542987e-01,  2.07917150e-03,\n",
       "       -2.77790644e-02,  4.53872338e-01, -1.24157288e-01,  1.75380834e-02,\n",
       "        6.26055225e-02, -2.73258158e-01, -3.89374157e-01,  1.71151661e-01,\n",
       "        1.93460300e-01,  5.45746988e-01, -1.57089395e-01,  1.79413487e-01,\n",
       "       -2.48913865e-01, -1.05350757e-01, -1.49023357e-01,  5.43084241e-02,\n",
       "       -6.38403861e-03, -1.28088398e-02,  5.35663388e-02,  4.78437976e-02,\n",
       "        2.74544553e-02,  6.66602482e-02,  9.42814348e-02,  1.07724227e-01,\n",
       "        4.94719101e-02, -1.79013933e-02,  9.92897984e-02, -1.98879324e-01,\n",
       "       -6.45435391e-03,  1.58914703e-02, -1.44874409e-01, -3.72157782e-01,\n",
       "        7.54543976e-02, -1.58823082e-01, -1.65937464e-01, -1.57823900e-01,\n",
       "        1.83899530e-01,  8.64456079e-02, -2.12098800e-03, -3.33134961e-02,\n",
       "        3.75096311e-02,  4.54379545e-01,  2.23746718e-01,  1.34761854e-01,\n",
       "        5.65496549e-02, -1.03571599e-01, -4.29696877e-01,  4.97402737e-01,\n",
       "        1.12933140e-02,  7.30047625e-02,  7.01430393e-02, -5.86228958e-01,\n",
       "        1.44607926e-01, -2.33219553e-01,  4.15904740e-01, -7.01908018e-02,\n",
       "       -5.06177424e-03,  9.20896116e-02, -2.28861960e-01,  3.50612672e-03,\n",
       "        4.95710512e-01, -2.29224567e-01,  9.40170107e-02,  2.63477770e-02,\n",
       "       -2.90205137e-02,  1.14467464e-01,  1.32854826e-01, -1.91597358e-01,\n",
       "       -2.89009217e-01,  4.77881953e-02, -1.87820346e-02,  3.71124900e-01,\n",
       "       -1.62830271e-02,  8.18554157e-02, -2.06174499e-01, -4.57399935e-01,\n",
       "        2.95000581e-01, -7.04450121e-02,  1.42369433e-01,  1.75079773e-01,\n",
       "        2.97959678e-02, -2.34622303e-02,  1.03860400e-01,  2.11507294e-01,\n",
       "       -1.70296513e-01,  3.48896550e-01,  1.31911750e-01, -2.41057087e-02,\n",
       "        5.97195480e-02, -8.71362726e-02, -1.05367658e-01,  1.91568860e-01,\n",
       "       -1.04055603e-01, -1.00431664e-01, -1.27852495e-01, -1.41942379e-01,\n",
       "        2.25824815e-02,  3.40430638e-01,  5.44729700e-02, -1.44619516e-01,\n",
       "        4.09008840e-01,  2.26077173e-02, -1.09843773e-01,  1.69429753e-01,\n",
       "        1.09949687e-01, -9.31547490e-02,  1.40586201e-01, -1.22926268e-01,\n",
       "        2.46117942e-02,  2.38853303e-01,  9.84535103e-02, -1.28031407e-01,\n",
       "        2.66189095e-01,  9.72594180e-02,  2.70233803e-02, -3.94014312e-02,\n",
       "       -2.06662039e-01, -1.90415749e-01, -1.47047735e-03, -5.59909007e-02,\n",
       "        2.34871568e-01,  1.77688770e-01, -4.25304468e-02, -2.13270115e-01,\n",
       "        4.33911366e-01, -1.92027708e-02, -3.44300508e-01,  8.35708093e-02,\n",
       "       -6.79793225e-02,  5.72203312e-03, -5.08961118e-02,  2.69915233e-01,\n",
       "       -7.13266824e-02,  7.22417890e-02,  1.18779020e-01,  1.73339499e-01,\n",
       "        4.72159545e-03, -1.88800890e-01, -5.01091684e-01,  1.94307155e-01,\n",
       "       -3.51388968e-01, -1.72181578e-01, -6.39773640e-03,  4.04520311e-02,\n",
       "        8.90793594e-02,  3.39949278e-01, -3.49566718e-02, -2.07177314e-01,\n",
       "       -4.77656526e-02, -1.45486733e-01, -3.34208822e-01, -5.56242590e-02,\n",
       "        1.84075087e-01, -4.46797858e-02, -4.01221314e-02,  3.69123526e-01,\n",
       "       -1.15721944e-03, -3.32951086e-01,  3.23823521e-01, -1.30259965e-01,\n",
       "       -2.42310571e-01,  1.41467983e-01,  2.06186857e-01,  7.53119516e-02,\n",
       "        3.11532479e-01, -6.16249133e-02,  6.79801878e-02,  4.33994292e-01,\n",
       "        9.98191476e-02,  7.21331888e-02,  2.92037212e-02,  4.59729090e-02,\n",
       "       -2.01788787e-01,  2.60939718e-02, -1.37370111e-01, -2.05063399e-02,\n",
       "       -9.43449813e-02, -2.80758996e-01,  1.55580697e-01,  2.56636265e-01,\n",
       "        3.98404498e-01, -2.45587577e-02, -1.35624016e-01,  8.93330456e-03,\n",
       "       -4.57328453e-02,  1.99803957e-02, -5.01559953e-02,  6.57744692e-03,\n",
       "       -1.41198603e-01, -1.53670512e-01, -1.08248341e-01, -1.81876582e-01,\n",
       "        8.42863551e-02, -1.91006096e-01,  2.24067615e-01,  4.37852402e-01,\n",
       "       -1.25949163e-02, -8.21615895e-02, -2.40777798e-01,  1.05380688e-01,\n",
       "       -2.12638252e-01, -1.57154523e-01,  4.09479674e-01,  3.86195187e-01,\n",
       "        4.09221044e-01, -5.64762376e-02, -3.33385382e-01,  6.05245261e-01,\n",
       "       -1.04789772e-02,  2.65819017e-01, -3.26192641e-01,  1.14528708e-01,\n",
       "        8.90776680e-03, -2.22118372e-01,  3.09784668e-01, -2.48757729e-01,\n",
       "       -3.05395834e-01, -2.40401342e-01, -3.73710856e-01, -1.16854583e-01,\n",
       "       -1.00359208e-01,  8.57299059e-02, -1.70882030e-02,  7.84657213e-02,\n",
       "        6.03842749e-02,  1.95524180e-01,  3.24901748e-01, -1.64336497e-01,\n",
       "       -2.28369116e-01,  6.52747896e-01,  1.45482734e-01, -6.46010748e-02,\n",
       "       -1.18827780e-01, -9.30513176e-02,  3.04336887e-03, -9.71229399e-02,\n",
       "        9.26311714e-02, -2.09333131e-01, -4.37277668e-02, -3.50386777e-01,\n",
       "       -1.13730924e-01,  8.99785485e-02, -1.35187974e-01,  2.36318210e-01,\n",
       "       -2.65854925e-02, -4.11819687e-01,  5.72744253e-02,  4.04417551e-01,\n",
       "        4.91553712e-02, -1.58130636e-01, -2.65124837e-02,  6.58411733e-03,\n",
       "       -2.51189335e-01, -2.20974940e-02,  5.49778943e-02,  1.31697876e-01,\n",
       "       -2.62374330e-01,  4.87923017e-02, -6.97117872e-02, -2.69127625e-01,\n",
       "        8.44169824e-02, -2.22568409e-02, -1.22375831e-01,  3.92829803e-02,\n",
       "        3.81906873e-02, -3.01888360e-02,  2.50919511e-01,  1.21724816e-01,\n",
       "        1.30151403e-01,  9.25245457e-02,  2.13378664e-02, -2.44618308e-01,\n",
       "       -2.05789642e-01,  4.50613234e-01, -2.32541146e-01, -4.41238912e-02,\n",
       "       -6.57326698e-02, -3.67908896e-01, -1.20170796e-01, -2.14133258e-01,\n",
       "       -1.11429921e-01, -6.56417012e-02, -2.30897207e-01,  1.80746646e-01,\n",
       "        8.71631037e-04,  2.31860101e-01, -4.31293954e-02, -1.40199425e-01,\n",
       "        6.81805101e-01,  3.14079412e-01, -2.44617228e-01,  3.33354543e-02,\n",
       "        1.34870653e-01, -1.07222456e-01,  7.17379841e-02, -1.54244712e-01,\n",
       "       -5.97021584e-02, -2.05284306e-01, -7.84459233e-02, -6.93776554e-02,\n",
       "       -2.71995067e-02, -2.05414903e-01,  4.29159915e-01, -9.92772261e-02,\n",
       "       -2.34371120e-02, -4.70909842e-02, -1.01025819e-01,  1.13922228e-01,\n",
       "       -2.66795899e-01, -5.26662073e-02,  7.89505591e-02, -1.03360539e-01,\n",
       "       -7.61483241e-02,  5.41914847e-02, -1.42874780e-01,  2.16324030e-01,\n",
       "        7.33039789e-02, -9.02535798e-02, -2.98318524e-01,  1.38218659e-02,\n",
       "        1.63782996e-01, -5.28989842e-01, -3.61179211e-02, -3.90943989e-02,\n",
       "       -3.15718227e-01, -1.05794821e-01, -5.95030762e-02, -1.66043780e-01,\n",
       "       -1.02603216e-01, -3.71741804e-02,  1.87094698e-01, -8.99943220e-02,\n",
       "       -1.92211479e-01,  1.05133626e-01,  3.85590150e-02, -7.82259242e-02,\n",
       "       -4.77255317e-02,  3.58790809e-02, -2.91369797e-02, -1.34051594e-01,\n",
       "       -2.69631797e-02, -1.21419835e-01, -1.52845893e-01, -1.19220829e-01,\n",
       "       -9.23572580e-02, -2.08008346e-02,  4.95521323e-02,  1.24199546e-01,\n",
       "       -1.04464064e-01,  1.32319258e-01,  5.33802289e-02,  3.25987311e-02,\n",
       "       -2.76821780e-01, -1.30180679e-02,  1.03395900e-01,  5.57413989e-01,\n",
       "       -3.79700211e-02,  1.22766930e-01, -1.24643693e-01,  9.93009502e-02,\n",
       "        5.37431264e-02,  1.38977721e-03, -5.14250929e-02, -1.34201642e-01,\n",
       "       -1.50796880e-01, -8.17899880e-02, -1.03234081e-01, -1.30774864e-01,\n",
       "        1.71431645e-01, -7.74111844e-02,  1.28347191e-02,  4.78300613e-01,\n",
       "       -1.28028338e-02,  4.58299909e-02,  1.80442648e-01,  9.01031063e-03,\n",
       "       -1.08197718e-01, -2.54043027e-01,  1.75536470e-01,  8.29982052e-02,\n",
       "       -1.60456758e-01, -3.68828884e-02,  4.13609222e-02, -3.39755029e-02,\n",
       "       -1.03500711e-01, -7.69531459e-02, -1.40482635e-01,  3.85590944e-01,\n",
       "        2.65762861e-01, -2.03856221e-01, -3.10104318e-01, -4.00722236e-01,\n",
       "        2.00495180e-02,  1.10458787e-01,  2.62301267e-02,  2.94237052e-02,\n",
       "        8.61587968e-02, -2.23855310e-02, -2.54073291e-01, -1.14469220e-03,\n",
       "        1.84211054e-01, -2.20735908e-02,  5.69065278e-02,  1.01019711e-01,\n",
       "       -1.97244141e-01, -2.03053903e-01, -2.68933520e-02,  1.25501751e-01,\n",
       "        6.20719357e-02, -6.47936057e-02, -4.23383018e-02, -1.34445383e-02,\n",
       "        1.21414645e-01, -9.57661873e-02,  9.09118589e-02,  4.05764738e-01,\n",
       "       -1.96995806e-02, -2.51156823e-01,  4.23202108e-02, -1.76164705e-01,\n",
       "        1.25390989e-01, -1.59880675e-01,  1.06702998e-01,  4.45899581e-02,\n",
       "        2.12394571e-01, -1.74693425e-02,  2.75877408e-01, -1.19851697e-01,\n",
       "       -1.07554908e-01, -1.73689927e-03, -1.24355037e-01,  2.95371760e-01,\n",
       "       -1.25388206e-01,  9.42119640e-02, -7.62336874e-02,  9.75419937e-03,\n",
       "        8.00183154e-02,  6.54727587e-01, -8.92561972e-02, -2.28823323e-01,\n",
       "        1.41898999e-01, -1.97301425e-01, -9.86406893e-03, -8.93790470e-02,\n",
       "       -4.00186031e-01, -1.27499021e-01,  5.87444173e-01,  1.72736209e-01,\n",
       "       -2.38517516e-01,  3.53767316e-01, -1.84342288e-01,  2.07710336e-01,\n",
       "       -2.36996151e-01, -1.20206558e-01,  3.38288866e-01,  2.78567972e-01,\n",
       "       -2.07398849e-01,  1.66329472e-02,  1.26529355e-01,  1.49126812e-01,\n",
       "       -1.54623146e-01,  6.79728568e-02, -1.51394283e-01,  4.57150590e-02,\n",
       "       -1.37059619e-02, -4.90968082e-02, -1.02641929e-01,  2.34425780e-01,\n",
       "       -1.09353825e-01, -2.03235313e-01,  2.25812426e-01, -2.77941782e-01,\n",
       "       -8.55228558e-02, -9.77373366e-02,  9.30704830e-03,  2.80777654e-01,\n",
       "       -1.68542269e-01,  2.49542751e-01,  8.61749441e-03,  6.54894558e-02,\n",
       "       -4.11392185e-02, -2.83308121e-01, -3.86086440e-01,  5.50039020e-02,\n",
       "        2.39614632e-01,  2.79667171e-02,  7.83693034e-03, -1.90937535e-01,\n",
       "       -7.75588517e-03, -1.41408859e-02,  1.30402632e-01,  9.98062723e-02,\n",
       "       -1.08047200e-01, -1.01513475e-02, -3.28029208e-02, -1.15068919e-01,\n",
       "       -1.23274297e-01,  1.12795297e-02, -2.55680171e-02, -3.19952232e-01,\n",
       "        2.29407660e-03,  3.63784940e-01,  1.04634034e-01, -6.99975656e-01,\n",
       "        3.15037385e-01,  6.14725429e-03,  4.53341807e-02,  1.23362590e-01,\n",
       "       -6.94214018e-02,  5.06656131e-02,  9.65563918e-02, -6.28206759e-01,\n",
       "        1.44160019e-01, -6.85346627e-02, -8.19955481e-03, -4.89364027e-02,\n",
       "        2.06894956e-01,  1.26148203e-01, -2.16624432e-01, -3.74345914e-02,\n",
       "       -7.38376545e-02, -1.12654185e-03, -1.02147189e-02,  5.46517192e-02,\n",
       "        1.74059416e-01, -1.31064747e-01,  7.71389171e-01, -1.35274638e-01,\n",
       "       -5.05893088e-01,  1.00396721e-01, -2.73603828e-01, -5.68080860e-02,\n",
       "        1.06459532e-01, -2.51193189e-02, -3.04289217e-01, -1.29936337e-01,\n",
       "        1.67881441e-02,  4.18364456e-02,  8.45400010e-02,  2.28173962e-01,\n",
       "        3.23328270e-02,  2.75966394e-01, -7.99416293e-02, -1.46319000e-01,\n",
       "       -1.04415567e-01, -7.75514083e-02, -1.04506490e-01,  1.78100738e-01,\n",
       "       -2.16812438e-01,  1.11580145e-01,  1.45767089e-01, -2.47902475e-02,\n",
       "        1.67470418e-01,  1.60037356e-01, -1.75772329e-01,  2.01698640e-01,\n",
       "        2.95448547e-02,  1.51852576e-01,  7.85804906e-02, -3.52968867e-01,\n",
       "        1.81190870e-01, -2.38421637e-01, -2.63825971e-01,  1.62038798e-02,\n",
       "        5.31494991e-01,  1.44104488e-01,  2.05749947e-01, -1.51925443e-02,\n",
       "        7.76131919e-02, -4.36748880e-01,  9.43338245e-02, -4.19030595e-02,\n",
       "       -6.08669125e-02, -4.04999896e-02, -1.19122505e-01,  4.51828200e-01,\n",
       "       -2.94299981e-02, -1.04753502e-01, -2.62115686e-03, -8.76933465e-02,\n",
       "       -1.18332794e-02,  1.46480202e-01, -5.87454462e-03,  2.37575067e-01,\n",
       "       -1.72585769e-01,  1.79522771e-01, -5.01682252e-02, -1.97935093e-01,\n",
       "       -2.38005694e-01,  1.86593283e-01,  4.78002128e-02, -9.96557261e-02,\n",
       "       -2.91971415e-01, -1.10378182e-01, -3.00410148e-01,  2.42391787e-01,\n",
       "        3.45806456e-02, -1.04265359e-01, -8.99715171e-02,  2.39517447e-02,\n",
       "        3.31055639e-02, -1.07852827e-02, -1.50088738e-01,  2.76380847e-01,\n",
       "       -7.34549893e-02,  2.59021898e-02, -1.57555880e-02,  1.48545932e-01,\n",
       "       -1.23277387e-01, -3.76902056e-01,  1.58803810e-01,  5.11819230e-02,\n",
       "        1.66024386e-01, -1.19116096e-01, -1.09242023e-01, -3.33855605e-01,\n",
       "       -1.86915988e-02, -1.52079716e-02,  9.49817301e-02,  2.12784244e-01,\n",
       "        2.57537595e-01,  4.99228743e-03,  6.74494998e-03, -1.60699864e-01,\n",
       "       -1.14397181e-01, -1.31955703e-01,  1.48682987e-01, -2.07300150e-01,\n",
       "        5.77997541e-02,  2.89994066e-01,  8.10661319e-02,  2.42273720e-02,\n",
       "        1.34623567e-02,  8.41322797e-02,  3.75013980e-01,  2.37208000e-01,\n",
       "       -1.45143222e-01, -2.41144832e-02,  7.17166304e-02,  3.50182840e-02,\n",
       "        5.10847995e-02,  3.59923815e-02,  1.48930769e-01, -1.17816295e-01,\n",
       "        1.88952312e-01, -2.37188441e-01,  1.28968483e-01, -3.27493975e-01,\n",
       "       -1.29232121e-01,  4.13879846e-02, -6.40775629e-02,  2.28740133e-01,\n",
       "        1.15193627e-01,  9.56883390e-02, -3.01710756e-01,  2.22220280e-01,\n",
       "        8.66919790e-03, -3.30081307e-01, -1.49103198e-02,  1.70854427e-01,\n",
       "       -5.89685730e-02,  2.24073577e-01, -1.78429561e-01,  3.45139201e-03,\n",
       "        2.88467146e-01, -1.64596048e-01,  1.56188930e-01, -3.51341563e-02,\n",
       "       -2.01529113e-01,  4.93818755e-02, -9.46602358e-03, -3.94118620e-03,\n",
       "       -1.04992262e-01, -1.10130273e-02, -1.20010458e-01,  1.75625020e-01,\n",
       "        6.37067493e-02, -2.50532145e-01,  3.39448571e-01, -2.87077621e-02,\n",
       "       -2.53507961e-01,  3.94803466e-02,  1.36663215e-02, -1.40213794e-01,\n",
       "       -7.92368881e-02,  1.38210407e-01,  5.34657068e-02, -3.82645727e-01,\n",
       "        2.72403361e-01, -2.25901599e-02,  4.82368758e-01,  4.66591968e-01,\n",
       "        7.07066370e-02, -1.91827670e-01, -2.10093218e-01,  6.45489611e-02,\n",
       "       -3.02910646e-01, -5.17001591e-01,  5.59521538e-02,  4.93407979e-02,\n",
       "        1.92099432e-02,  2.75191310e-02,  2.40644242e-02,  1.41930258e-01,\n",
       "       -2.62654903e-02, -2.20598590e-02, -4.86461186e-03, -9.40710044e-02,\n",
       "       -7.11699091e-02, -3.14151633e-02, -4.18138406e-02,  7.38976613e-02,\n",
       "        7.54415901e-02,  8.56212913e-02, -1.13296437e-02,  8.22537306e-02,\n",
       "       -2.73123767e-02, -3.28096064e-02, -3.59757468e-01, -5.09203812e-02,\n",
       "       -1.07154407e-01,  3.71136535e-02,  6.23457493e-02, -3.42447462e-02,\n",
       "       -8.41066720e-02, -1.59641404e-02])"
      ]
     },
     "execution_count": 255,
     "metadata": {},
     "output_type": "execute_result"
    }
   ],
   "source": [
    "lr_model.coef_[0]"
   ]
  },
  {
   "cell_type": "markdown",
   "metadata": {},
   "source": [
    "The 2nd coefficient equal to 4.16667767 belongs to the DEP_DEL_15 which shows us that the largest effect in the arrival delay of a flight is whether is departed late or not (which is what's expected from common sense). However the other coefficients are not negligible.\n",
    "\n",
    "Let's see and plot the top 5% of the most important features:"
   ]
  },
  {
   "cell_type": "code",
   "execution_count": 389,
   "metadata": {},
   "outputs": [
    {
     "data": {
      "text/html": [
       "<div>\n",
       "<style scoped>\n",
       "    .dataframe tbody tr th:only-of-type {\n",
       "        vertical-align: middle;\n",
       "    }\n",
       "\n",
       "    .dataframe tbody tr th {\n",
       "        vertical-align: top;\n",
       "    }\n",
       "\n",
       "    .dataframe thead th {\n",
       "        text-align: right;\n",
       "    }\n",
       "</style>\n",
       "<table border=\"1\" class=\"dataframe\">\n",
       "  <thead>\n",
       "    <tr style=\"text-align: right;\">\n",
       "      <th></th>\n",
       "      <th>Feat</th>\n",
       "      <th>Coef</th>\n",
       "    </tr>\n",
       "  </thead>\n",
       "  <tbody>\n",
       "    <tr>\n",
       "      <th>1</th>\n",
       "      <td>DEP_DEL15</td>\n",
       "      <td>4.166678</td>\n",
       "    </tr>\n",
       "    <tr>\n",
       "      <th>13</th>\n",
       "      <td>ORIGIN_AEX</td>\n",
       "      <td>0.453873</td>\n",
       "    </tr>\n",
       "    <tr>\n",
       "      <th>21</th>\n",
       "      <td>ORIGIN_ASE</td>\n",
       "      <td>0.545742</td>\n",
       "    </tr>\n",
       "    <tr>\n",
       "      <th>53</th>\n",
       "      <td>ORIGIN_BTV</td>\n",
       "      <td>0.454379</td>\n",
       "    </tr>\n",
       "    <tr>\n",
       "      <th>58</th>\n",
       "      <td>ORIGIN_CAE</td>\n",
       "      <td>-0.429692</td>\n",
       "    </tr>\n",
       "    <tr>\n",
       "      <th>59</th>\n",
       "      <td>ORIGIN_CAK</td>\n",
       "      <td>0.497402</td>\n",
       "    </tr>\n",
       "    <tr>\n",
       "      <th>63</th>\n",
       "      <td>ORIGIN_CHA</td>\n",
       "      <td>-0.586228</td>\n",
       "    </tr>\n",
       "    <tr>\n",
       "      <th>66</th>\n",
       "      <td>ORIGIN_CID</td>\n",
       "      <td>0.415904</td>\n",
       "    </tr>\n",
       "    <tr>\n",
       "      <th>72</th>\n",
       "      <td>ORIGIN_CMH</td>\n",
       "      <td>0.495708</td>\n",
       "    </tr>\n",
       "    <tr>\n",
       "      <th>87</th>\n",
       "      <td>ORIGIN_DAL</td>\n",
       "      <td>-0.457402</td>\n",
       "    </tr>\n",
       "    <tr>\n",
       "      <th>136</th>\n",
       "      <td>ORIGIN_GRR</td>\n",
       "      <td>0.433911</td>\n",
       "    </tr>\n",
       "    <tr>\n",
       "      <th>150</th>\n",
       "      <td>ORIGIN_HOU</td>\n",
       "      <td>-0.501094</td>\n",
       "    </tr>\n",
       "    <tr>\n",
       "      <th>179</th>\n",
       "      <td>ORIGIN_LAN</td>\n",
       "      <td>0.433981</td>\n",
       "    </tr>\n",
       "    <tr>\n",
       "      <th>207</th>\n",
       "      <td>ORIGIN_MDW</td>\n",
       "      <td>0.437850</td>\n",
       "    </tr>\n",
       "    <tr>\n",
       "      <th>214</th>\n",
       "      <td>ORIGIN_MHT</td>\n",
       "      <td>0.409476</td>\n",
       "    </tr>\n",
       "    <tr>\n",
       "      <th>216</th>\n",
       "      <td>ORIGIN_MKE</td>\n",
       "      <td>0.409219</td>\n",
       "    </tr>\n",
       "    <tr>\n",
       "      <th>219</th>\n",
       "      <td>ORIGIN_MLI</td>\n",
       "      <td>0.605248</td>\n",
       "    </tr>\n",
       "    <tr>\n",
       "      <th>241</th>\n",
       "      <td>ORIGIN_ORD</td>\n",
       "      <td>0.652746</td>\n",
       "    </tr>\n",
       "    <tr>\n",
       "      <th>257</th>\n",
       "      <td>ORIGIN_PIE</td>\n",
       "      <td>-0.411806</td>\n",
       "    </tr>\n",
       "    <tr>\n",
       "      <th>285</th>\n",
       "      <td>ORIGIN_RST</td>\n",
       "      <td>0.450597</td>\n",
       "    </tr>\n",
       "    <tr>\n",
       "      <th>300</th>\n",
       "      <td>ORIGIN_SFO</td>\n",
       "      <td>0.681803</td>\n",
       "    </tr>\n",
       "    <tr>\n",
       "      <th>314</th>\n",
       "      <td>ORIGIN_SPI</td>\n",
       "      <td>0.429173</td>\n",
       "    </tr>\n",
       "    <tr>\n",
       "      <th>333</th>\n",
       "      <td>ORIGIN_TUL</td>\n",
       "      <td>-0.528992</td>\n",
       "    </tr>\n",
       "    <tr>\n",
       "      <th>367</th>\n",
       "      <td>DEST_ASE</td>\n",
       "      <td>0.557413</td>\n",
       "    </tr>\n",
       "    <tr>\n",
       "      <th>383</th>\n",
       "      <td>DEST_BIS</td>\n",
       "      <td>0.478300</td>\n",
       "    </tr>\n",
       "    <tr>\n",
       "      <th>449</th>\n",
       "      <td>DEST_EGE</td>\n",
       "      <td>0.654729</td>\n",
       "    </tr>\n",
       "    <tr>\n",
       "      <th>458</th>\n",
       "      <td>DEST_EWR</td>\n",
       "      <td>0.587446</td>\n",
       "    </tr>\n",
       "    <tr>\n",
       "      <th>515</th>\n",
       "      <td>DEST_ITO</td>\n",
       "      <td>-0.699995</td>\n",
       "    </tr>\n",
       "    <tr>\n",
       "      <th>523</th>\n",
       "      <td>DEST_KOA</td>\n",
       "      <td>-0.628209</td>\n",
       "    </tr>\n",
       "    <tr>\n",
       "      <th>538</th>\n",
       "      <td>DEST_LGA</td>\n",
       "      <td>0.771391</td>\n",
       "    </tr>\n",
       "    <tr>\n",
       "      <th>540</th>\n",
       "      <td>DEST_LIH</td>\n",
       "      <td>-0.505896</td>\n",
       "    </tr>\n",
       "    <tr>\n",
       "      <th>576</th>\n",
       "      <td>DEST_MTJ</td>\n",
       "      <td>0.531429</td>\n",
       "    </tr>\n",
       "    <tr>\n",
       "      <th>581</th>\n",
       "      <td>DEST_OGG</td>\n",
       "      <td>-0.436751</td>\n",
       "    </tr>\n",
       "    <tr>\n",
       "      <th>587</th>\n",
       "      <td>DEST_ORD</td>\n",
       "      <td>0.451829</td>\n",
       "    </tr>\n",
       "    <tr>\n",
       "      <th>702</th>\n",
       "      <td>OP_UNIQUE_CARRIER_G4</td>\n",
       "      <td>0.482347</td>\n",
       "    </tr>\n",
       "    <tr>\n",
       "      <th>703</th>\n",
       "      <td>OP_UNIQUE_CARRIER_HA</td>\n",
       "      <td>0.466599</td>\n",
       "    </tr>\n",
       "    <tr>\n",
       "      <th>709</th>\n",
       "      <td>OP_UNIQUE_CARRIER_WN</td>\n",
       "      <td>-0.516999</td>\n",
       "    </tr>\n",
       "  </tbody>\n",
       "</table>\n",
       "</div>"
      ],
      "text/plain": [
       "                     Feat      Coef\n",
       "1               DEP_DEL15  4.166678\n",
       "13             ORIGIN_AEX  0.453873\n",
       "21             ORIGIN_ASE  0.545742\n",
       "53             ORIGIN_BTV  0.454379\n",
       "58             ORIGIN_CAE -0.429692\n",
       "59             ORIGIN_CAK  0.497402\n",
       "63             ORIGIN_CHA -0.586228\n",
       "66             ORIGIN_CID  0.415904\n",
       "72             ORIGIN_CMH  0.495708\n",
       "87             ORIGIN_DAL -0.457402\n",
       "136            ORIGIN_GRR  0.433911\n",
       "150            ORIGIN_HOU -0.501094\n",
       "179            ORIGIN_LAN  0.433981\n",
       "207            ORIGIN_MDW  0.437850\n",
       "214            ORIGIN_MHT  0.409476\n",
       "216            ORIGIN_MKE  0.409219\n",
       "219            ORIGIN_MLI  0.605248\n",
       "241            ORIGIN_ORD  0.652746\n",
       "257            ORIGIN_PIE -0.411806\n",
       "285            ORIGIN_RST  0.450597\n",
       "300            ORIGIN_SFO  0.681803\n",
       "314            ORIGIN_SPI  0.429173\n",
       "333            ORIGIN_TUL -0.528992\n",
       "367              DEST_ASE  0.557413\n",
       "383              DEST_BIS  0.478300\n",
       "449              DEST_EGE  0.654729\n",
       "458              DEST_EWR  0.587446\n",
       "515              DEST_ITO -0.699995\n",
       "523              DEST_KOA -0.628209\n",
       "538              DEST_LGA  0.771391\n",
       "540              DEST_LIH -0.505896\n",
       "576              DEST_MTJ  0.531429\n",
       "581              DEST_OGG -0.436751\n",
       "587              DEST_ORD  0.451829\n",
       "702  OP_UNIQUE_CARRIER_G4  0.482347\n",
       "703  OP_UNIQUE_CARRIER_HA  0.466599\n",
       "709  OP_UNIQUE_CARRIER_WN -0.516999"
      ]
     },
     "execution_count": 389,
     "metadata": {},
     "output_type": "execute_result"
    }
   ],
   "source": [
    "top_5_pc = np.percentile(np.abs(lr_model.coef_[0]),95)\n",
    "importance = pd.Series(lr_model.coef_[0])\n",
    "features = pd.Series(X.columns)\n",
    "\n",
    "features_ = pd.concat([features, importance], axis = 1)\n",
    "features_.rename({0:'Feat', 1: 'Coef'}, axis = 1, inplace = True)\n",
    "feat = features_[np.abs(features_['Coef']) > top_5_pc]\n",
    "feat"
   ]
  },
  {
   "cell_type": "code",
   "execution_count": 390,
   "metadata": {},
   "outputs": [
    {
     "data": {
      "text/plain": [
       "Text(0.5, 0, 'Importance')"
      ]
     },
     "execution_count": 390,
     "metadata": {},
     "output_type": "execute_result"
    },
    {
     "data": {
      "image/png": "[encoded data removed]",
      "text/plain": [
       "<Figure size 288x864 with 1 Axes>"
      ]
     },
     "metadata": {},
     "output_type": "display_data"
    }
   ],
   "source": [
    "fig,ax = plt.subplots()\n",
    "fig.set_size_inches(4, 12)\n",
    "ax.barh(feat.Feat, feat.Coef)\n",
    "ax.set_xlabel('Importance')"
   ]
  },
  {
   "cell_type": "markdown",
   "metadata": {},
   "source": [
    "As expected the highest coefficient belongs to the departure delay. It is curious that weekday does not matter; instead the origin airports and unique carriers do."
   ]
  },
  {
   "cell_type": "markdown",
   "metadata": {},
   "source": [
    "## Tree Models <a id='Tree-Models'></a>\n"
   ]
  },
  {
   "cell_type": "markdown",
   "metadata": {
    "colab_type": "text",
    "id": "XI_d-LoHEQ8N"
   },
   "source": [
    "### Decision Tree Classifier <a id='Decision-Tree-Classifier'></a>"
   ]
  },
  {
   "cell_type": "code",
   "execution_count": 260,
   "metadata": {
    "colab": {},
    "colab_type": "code",
    "id": "k3HJ-Lm6EY3p"
   },
   "outputs": [],
   "source": [
    "dt_model = DecisionTreeClassifier(random_state = 0)"
   ]
  },
  {
   "cell_type": "markdown",
   "metadata": {},
   "source": [
    "Let's optimize the hyperparameters. There are many hyperparameters to the Decision Tree as below:\n",
    "\n",
    "    criterion='gini',\n",
    "\n",
    "    splitter='best',\n",
    "\n",
    "    max_depth=None,\n",
    "\n",
    "    min_samples_split=2,\n",
    "\n",
    "    min_samples_leaf=1,\n",
    "\n",
    "    min_weight_fraction_leaf=0.0,\n",
    "\n",
    "    max_features=None,\n",
    "\n",
    "    random_state=None,\n",
    "\n",
    "    max_leaf_nodes=None,\n",
    "\n",
    "    min_impurity_decrease=0.0,\n",
    "\n",
    "    min_impurity_split=None,\n",
    "\n",
    "    class_weight=None,\n",
    "\n",
    "    presort='deprecated',\n",
    "\n",
    "    ccp_alpha=0.0\n",
    "\n",
    "It would take weeks to run all the parameters above. \n",
    "Let us just instead play only with max_depth:"
   ]
  },
  {
   "cell_type": "code",
   "execution_count": 262,
   "metadata": {},
   "outputs": [
    {
     "name": "stdout",
     "output_type": "stream",
     "text": [
      "tuned hyperparameters :(best parameters)  {'max_depth': 2}\n",
      "accuracy : 0.9162735358100379\n"
     ]
    }
   ],
   "source": [
    "grid={'max_depth':[2,6,10]}\n",
    "\n",
    "dt_model_cv = GridSearchCV(dt_model, grid, cv = 5)\n",
    "\n",
    "dt_model_cv.fit(X_train, y_train)\n",
    "\n",
    "print(\"tuned hyperparameters :(best parameters) \",dt_model_cv.best_params_)\n",
    "print(\"accuracy :\",dt_model_cv.best_score_)"
   ]
  },
  {
   "cell_type": "markdown",
   "metadata": {},
   "source": [
    "Let's redefine the model with the best fitting hyperparameters and then fit it to the training data:"
   ]
  },
  {
   "cell_type": "code",
   "execution_count": 263,
   "metadata": {},
   "outputs": [],
   "source": [
    "dt_model = DecisionTreeClassifier(random_state = 0, \n",
    "                                  max_depth = dt_model_cv.best_params_['max_depth'] )\n",
    "\n",
    "dt_model.fit(X_train, y_train)"
   ]
  },
  {
   "cell_type": "markdown",
   "metadata": {},
   "source": [
    "Let's now look at the results:"
   ]
  },
  {
   "cell_type": "code",
   "execution_count": 38,
   "metadata": {
    "colab": {
     "base_uri": "https://localhost:8080/",
     "height": 182
    },
    "colab_type": "code",
    "id": "g9f-NXgfEYS9",
    "outputId": "43a6b2d3-9b8f-400d-f12d-91e4cfe8b15c"
   },
   "outputs": [
    {
     "name": "stdout",
     "output_type": "stream",
     "text": [
      "              precision    recall  f1-score   support\n",
      "\n",
      "         0.0       0.92      0.93      0.93    230376\n",
      "         1.0       0.70      0.67      0.68     52606\n",
      "\n",
      "    accuracy                           0.88    282982\n",
      "   macro avg       0.81      0.80      0.80    282982\n",
      "weighted avg       0.88      0.88      0.88    282982\n",
      "\n"
     ]
    }
   ],
   "source": [
    "y_pred = dt_model.predict(X_test)\n",
    "print(metrics.classification_report(y_test,y_pred))"
   ]
  },
  {
   "cell_type": "code",
   "execution_count": 264,
   "metadata": {
    "colab": {
     "base_uri": "https://localhost:8080/",
     "height": 283
    },
    "colab_type": "code",
    "id": "cx2V39GCFKQF",
    "outputId": "c2fcbf54-9369-4dda-f560-06c76e06461f"
   },
   "outputs": [
    {
     "name": "stderr",
     "output_type": "stream",
     "text": [
      "c:\\python37\\lib\\site-packages\\sklearn\\base.py:209: FutureWarning: From version 0.24, get_params will raise an AttributeError if a parameter cannot be retrieved as an instance attribute. Previously it would return None.\n",
      "  warnings.warn('From version 0.24, get_params will raise an '\n"
     ]
    },
    {
     "data": {
      "text/plain": [
       "<matplotlib.legend.Legend at 0x247a6cc5940>"
      ]
     },
     "execution_count": 264,
     "metadata": {},
     "output_type": "execute_result"
    },
    {
     "data": {
      "image/png": "[encoded data removed]",
      "text/plain": [
       "<Figure size 576x396 with 1 Axes>"
      ]
     },
     "metadata": {},
     "output_type": "display_data"
    }
   ],
   "source": [
    "ax = plt.axes()\n",
    "visualizer = ROCAUC(dt_model, \n",
    "                    ax = ax,\n",
    "                    per_class = True,\n",
    "                    classes = ['Not Delayed', 'Delayed'])\n",
    "\n",
    "visualizer.fit(X_train, y_train)         \n",
    "visualizer.score(X_test, y_test) \n",
    "ax.set_title('Decision Tree Model')\n",
    "ax.set_xlabel('False Positive Rate')\n",
    "ax.set_ylabel('True Positive Rate')\n",
    "ax.legend()"
   ]
  },
  {
   "cell_type": "markdown",
   "metadata": {},
   "source": [
    "Let's seet which features are important in Decision Tree model:"
   ]
  },
  {
   "cell_type": "code",
   "execution_count": 290,
   "metadata": {},
   "outputs": [
    {
     "data": {
      "text/html": [
       "<div>\n",
       "<style scoped>\n",
       "    .dataframe tbody tr th:only-of-type {\n",
       "        vertical-align: middle;\n",
       "    }\n",
       "\n",
       "    .dataframe tbody tr th {\n",
       "        vertical-align: top;\n",
       "    }\n",
       "\n",
       "    .dataframe thead th {\n",
       "        text-align: right;\n",
       "    }\n",
       "</style>\n",
       "<table border=\"1\" class=\"dataframe\">\n",
       "  <thead>\n",
       "    <tr style=\"text-align: right;\">\n",
       "      <th></th>\n",
       "      <th>Feat</th>\n",
       "      <th>Impo</th>\n",
       "    </tr>\n",
       "  </thead>\n",
       "  <tbody>\n",
       "    <tr>\n",
       "      <th>1</th>\n",
       "      <td>DEP_DEL15</td>\n",
       "      <td>0.993692</td>\n",
       "    </tr>\n",
       "    <tr>\n",
       "      <th>241</th>\n",
       "      <td>ORIGIN_ORD</td>\n",
       "      <td>0.001336</td>\n",
       "    </tr>\n",
       "    <tr>\n",
       "      <th>709</th>\n",
       "      <td>OP_UNIQUE_CARRIER_WN</td>\n",
       "      <td>0.004972</td>\n",
       "    </tr>\n",
       "  </tbody>\n",
       "</table>\n",
       "</div>"
      ],
      "text/plain": [
       "                     Feat      Impo\n",
       "1               DEP_DEL15  0.993692\n",
       "241            ORIGIN_ORD  0.001336\n",
       "709  OP_UNIQUE_CARRIER_WN  0.004972"
      ]
     },
     "execution_count": 290,
     "metadata": {},
     "output_type": "execute_result"
    }
   ],
   "source": [
    "importance = pd.Series(dt_model.feature_importances_)\n",
    "features = pd.Series(X.columns)\n",
    "\n",
    "features_ = pd.concat([features, importance], axis = 1)\n",
    "features_.rename({0:'Feat', 1: 'Impo'}, axis = 1, inplace = True)\n",
    "features_[features_['Impo'] > 0.0]\n"
   ]
  },
  {
   "cell_type": "markdown",
   "metadata": {},
   "source": [
    "It can be seen that only 3 features matter at all: The expected departure delay, whether Origin is ORD and Carrier is WN"
   ]
  },
  {
   "cell_type": "markdown",
   "metadata": {
    "colab_type": "text",
    "id": "caDpHpqnYmsn"
   },
   "source": [
    "### Random Forest Classifier <a id='Random-Forest-Classifier'></a>"
   ]
  },
  {
   "cell_type": "code",
   "execution_count": 302,
   "metadata": {},
   "outputs": [],
   "source": [
    "rf_model=RandomForestClassifier()"
   ]
  },
  {
   "cell_type": "markdown",
   "metadata": {},
   "source": [
    "Let's optimize the hyperparameters. Here's all that can be optimized:\n",
    "\n",
    "    n_estimators=100,\n",
    "    \n",
    "    criterion='gini',\n",
    "    \n",
    "    max_depth=None,\n",
    "    \n",
    "    min_samples_split=2,\n",
    "    \n",
    "    min_samples_leaf=1,\n",
    "    \n",
    "    min_weight_fraction_leaf=0.0,\n",
    "    \n",
    "    max_features='auto',\n",
    "    \n",
    "    max_leaf_nodes=None,\n",
    "    \n",
    "    min_impurity_decrease=0.0,\n",
    "    \n",
    "    min_impurity_split=None,\n",
    "    \n",
    "    bootstrap=True,\n",
    "    \n",
    "    oob_score=False,\n",
    "    \n",
    "    n_jobs=None,\n",
    "    \n",
    "    random_state=None,\n",
    "    \n",
    "    verbose=0,\n",
    "    \n",
    "    warm_start=False,\n",
    "    \n",
    "    class_weight=None,\n",
    "    \n",
    "    ccp_alpha=0.0,\n",
    "    \n",
    "    max_samples=None,\n",
    "    \n",
    "This is a very long list, so let us instead test for max_depth and max_features:"
   ]
  },
  {
   "cell_type": "code",
   "execution_count": 303,
   "metadata": {},
   "outputs": [
    {
     "name": "stdout",
     "output_type": "stream",
     "text": [
      "tuned hyperparameters :(best parameters)  {'max_depth': 2, 'max_features': 'sqrt'}\n",
      "accuracy : 0.8137754831753201\n"
     ]
    }
   ],
   "source": [
    "grid = {'max_depth':[2,4,6], 'max_features':[\"sqrt\", \"log2\"]}\n",
    "\n",
    "rf_model_cv = GridSearchCV(rf_model, grid, cv = 5)\n",
    "\n",
    "rf_model_cv.fit(X_train, y_train)\n",
    "\n",
    "print(\"tuned hyperparameters :(best parameters) \",rf_model_cv.best_params_)\n",
    "print(\"accuracy :\",rf_model_cv.best_score_)"
   ]
  },
  {
   "cell_type": "markdown",
   "metadata": {},
   "source": [
    "Let's redefine the model with the best fitting hyperparameters and then fit it to the training data:"
   ]
  },
  {
   "cell_type": "code",
   "execution_count": 307,
   "metadata": {
    "colab": {},
    "colab_type": "code",
    "id": "CnhL61JcaO7K"
   },
   "outputs": [
    {
     "data": {
      "text/plain": [
       "RandomForestClassifier(max_depth=2, max_features='sqrt')"
      ]
     },
     "execution_count": 307,
     "metadata": {},
     "output_type": "execute_result"
    }
   ],
   "source": [
    "rf_model = RandomForestClassifier(max_depth = rf_model_cv.best_params_['max_depth'],\n",
    "                                 max_features = rf_model_cv.best_params_['max_features'] )\n",
    "\n",
    "rf_model.fit(X_train, y_train)"
   ]
  },
  {
   "cell_type": "markdown",
   "metadata": {},
   "source": [
    "Let's now look at the results:"
   ]
  },
  {
   "cell_type": "code",
   "execution_count": 339,
   "metadata": {
    "colab": {
     "base_uri": "https://localhost:8080/",
     "height": 35
    },
    "colab_type": "code",
    "id": "zdppjsxFbQgl",
    "outputId": "62de0a34-c0e6-4ecf-cbea-0a7592e93070"
   },
   "outputs": [
    {
     "name": "stdout",
     "output_type": "stream",
     "text": [
      "0.8143910213370462\n"
     ]
    }
   ],
   "source": [
    "y_pred = rf_model.predict(X_test)\n",
    "print(metrics.accuracy_score(y_test,y_pred))"
   ]
  },
  {
   "cell_type": "code",
   "execution_count": 309,
   "metadata": {
    "colab": {
     "base_uri": "https://localhost:8080/",
     "height": 283
    },
    "colab_type": "code",
    "id": "D2HbUZWY6Icn",
    "outputId": "dec0efa9-b40f-485c-b4aa-b3d8f456752b"
   },
   "outputs": [
    {
     "name": "stderr",
     "output_type": "stream",
     "text": [
      "c:\\python37\\lib\\site-packages\\sklearn\\base.py:209: FutureWarning: From version 0.24, get_params will raise an AttributeError if a parameter cannot be retrieved as an instance attribute. Previously it would return None.\n",
      "  warnings.warn('From version 0.24, get_params will raise an '\n"
     ]
    },
    {
     "data": {
      "text/plain": [
       "<matplotlib.legend.Legend at 0x24789690a60>"
      ]
     },
     "execution_count": 309,
     "metadata": {},
     "output_type": "execute_result"
    },
    {
     "data": {
      "image/png": "[encoded data removed]",
      "text/plain": [
       "<Figure size 576x396 with 1 Axes>"
      ]
     },
     "metadata": {},
     "output_type": "display_data"
    }
   ],
   "source": [
    "ax = plt.axes()\n",
    "visualizer = ROCAUC(rf_model, \n",
    "                    ax = ax,\n",
    "                    classes = ['Not Delayed', 'Delayed'])\n",
    "\n",
    "visualizer.fit(X_train, y_train)         \n",
    "visualizer.score(X_test, y_test) \n",
    "ax.set_title('Random Forest Model')\n",
    "ax.set_xlabel('False Positive Rate')\n",
    "ax.set_ylabel('True Positive Rate')\n",
    "ax.legend()"
   ]
  },
  {
   "cell_type": "markdown",
   "metadata": {},
   "source": [
    "Let's seet which features are important (top 5%) in Decision Tree model:"
   ]
  },
  {
   "cell_type": "code",
   "execution_count": 383,
   "metadata": {
    "scrolled": true
   },
   "outputs": [
    {
     "data": {
      "text/html": [
       "<div>\n",
       "<style scoped>\n",
       "    .dataframe tbody tr th:only-of-type {\n",
       "        vertical-align: middle;\n",
       "    }\n",
       "\n",
       "    .dataframe tbody tr th {\n",
       "        vertical-align: top;\n",
       "    }\n",
       "\n",
       "    .dataframe thead th {\n",
       "        text-align: right;\n",
       "    }\n",
       "</style>\n",
       "<table border=\"1\" class=\"dataframe\">\n",
       "  <thead>\n",
       "    <tr style=\"text-align: right;\">\n",
       "      <th></th>\n",
       "      <th>Feat</th>\n",
       "      <th>Impo</th>\n",
       "    </tr>\n",
       "  </thead>\n",
       "  <tbody>\n",
       "    <tr>\n",
       "      <th>0</th>\n",
       "      <td>DAY_OF_MONTH</td>\n",
       "      <td>0.027529</td>\n",
       "    </tr>\n",
       "    <tr>\n",
       "      <th>1</th>\n",
       "      <td>DEP_DEL15</td>\n",
       "      <td>0.094998</td>\n",
       "    </tr>\n",
       "    <tr>\n",
       "      <th>2</th>\n",
       "      <td>DISTANCE</td>\n",
       "      <td>0.005568</td>\n",
       "    </tr>\n",
       "    <tr>\n",
       "      <th>21</th>\n",
       "      <td>ORIGIN_ASE</td>\n",
       "      <td>0.020547</td>\n",
       "    </tr>\n",
       "    <tr>\n",
       "      <th>22</th>\n",
       "      <td>ORIGIN_ATL</td>\n",
       "      <td>0.015161</td>\n",
       "    </tr>\n",
       "    <tr>\n",
       "      <th>112</th>\n",
       "      <td>ORIGIN_EWR</td>\n",
       "      <td>0.014059</td>\n",
       "    </tr>\n",
       "    <tr>\n",
       "      <th>192</th>\n",
       "      <td>ORIGIN_LGA</td>\n",
       "      <td>0.033119</td>\n",
       "    </tr>\n",
       "    <tr>\n",
       "      <th>207</th>\n",
       "      <td>ORIGIN_MDW</td>\n",
       "      <td>0.008479</td>\n",
       "    </tr>\n",
       "    <tr>\n",
       "      <th>219</th>\n",
       "      <td>ORIGIN_MLI</td>\n",
       "      <td>0.010786</td>\n",
       "    </tr>\n",
       "    <tr>\n",
       "      <th>233</th>\n",
       "      <td>ORIGIN_OAK</td>\n",
       "      <td>0.004756</td>\n",
       "    </tr>\n",
       "    <tr>\n",
       "      <th>241</th>\n",
       "      <td>ORIGIN_ORD</td>\n",
       "      <td>0.042890</td>\n",
       "    </tr>\n",
       "    <tr>\n",
       "      <th>298</th>\n",
       "      <td>ORIGIN_SEA</td>\n",
       "      <td>0.010779</td>\n",
       "    </tr>\n",
       "    <tr>\n",
       "      <th>300</th>\n",
       "      <td>ORIGIN_SFO</td>\n",
       "      <td>0.010927</td>\n",
       "    </tr>\n",
       "    <tr>\n",
       "      <th>368</th>\n",
       "      <td>DEST_ATL</td>\n",
       "      <td>0.036077</td>\n",
       "    </tr>\n",
       "    <tr>\n",
       "      <th>390</th>\n",
       "      <td>DEST_BOS</td>\n",
       "      <td>0.010305</td>\n",
       "    </tr>\n",
       "    <tr>\n",
       "      <th>458</th>\n",
       "      <td>DEST_EWR</td>\n",
       "      <td>0.060213</td>\n",
       "    </tr>\n",
       "    <tr>\n",
       "      <th>538</th>\n",
       "      <td>DEST_LGA</td>\n",
       "      <td>0.056758</td>\n",
       "    </tr>\n",
       "    <tr>\n",
       "      <th>587</th>\n",
       "      <td>DEST_ORD</td>\n",
       "      <td>0.042201</td>\n",
       "    </tr>\n",
       "    <tr>\n",
       "      <th>600</th>\n",
       "      <td>DEST_PHX</td>\n",
       "      <td>0.019664</td>\n",
       "    </tr>\n",
       "    <tr>\n",
       "      <th>646</th>\n",
       "      <td>DEST_SFO</td>\n",
       "      <td>0.016134</td>\n",
       "    </tr>\n",
       "    <tr>\n",
       "      <th>698</th>\n",
       "      <td>OP_UNIQUE_CARRIER_B6</td>\n",
       "      <td>0.023626</td>\n",
       "    </tr>\n",
       "    <tr>\n",
       "      <th>699</th>\n",
       "      <td>OP_UNIQUE_CARRIER_DL</td>\n",
       "      <td>0.080143</td>\n",
       "    </tr>\n",
       "    <tr>\n",
       "      <th>700</th>\n",
       "      <td>OP_UNIQUE_CARRIER_EV</td>\n",
       "      <td>0.005320</td>\n",
       "    </tr>\n",
       "    <tr>\n",
       "      <th>701</th>\n",
       "      <td>OP_UNIQUE_CARRIER_F9</td>\n",
       "      <td>0.005014</td>\n",
       "    </tr>\n",
       "    <tr>\n",
       "      <th>702</th>\n",
       "      <td>OP_UNIQUE_CARRIER_G4</td>\n",
       "      <td>0.011174</td>\n",
       "    </tr>\n",
       "    <tr>\n",
       "      <th>704</th>\n",
       "      <td>OP_UNIQUE_CARRIER_MQ</td>\n",
       "      <td>0.022657</td>\n",
       "    </tr>\n",
       "    <tr>\n",
       "      <th>707</th>\n",
       "      <td>OP_UNIQUE_CARRIER_OO</td>\n",
       "      <td>0.025438</td>\n",
       "    </tr>\n",
       "    <tr>\n",
       "      <th>709</th>\n",
       "      <td>OP_UNIQUE_CARRIER_WN</td>\n",
       "      <td>0.037339</td>\n",
       "    </tr>\n",
       "    <tr>\n",
       "      <th>711</th>\n",
       "      <td>OP_UNIQUE_CARRIER_YX</td>\n",
       "      <td>0.033202</td>\n",
       "    </tr>\n",
       "    <tr>\n",
       "      <th>712</th>\n",
       "      <td>DEP_TIME_BLK_0001-0559</td>\n",
       "      <td>0.009761</td>\n",
       "    </tr>\n",
       "    <tr>\n",
       "      <th>713</th>\n",
       "      <td>DEP_TIME_BLK_0600-0659</td>\n",
       "      <td>0.043191</td>\n",
       "    </tr>\n",
       "    <tr>\n",
       "      <th>714</th>\n",
       "      <td>DEP_TIME_BLK_0700-0759</td>\n",
       "      <td>0.019259</td>\n",
       "    </tr>\n",
       "    <tr>\n",
       "      <th>715</th>\n",
       "      <td>DEP_TIME_BLK_0800-0859</td>\n",
       "      <td>0.020494</td>\n",
       "    </tr>\n",
       "    <tr>\n",
       "      <th>724</th>\n",
       "      <td>DEP_TIME_BLK_1700-1759</td>\n",
       "      <td>0.017163</td>\n",
       "    </tr>\n",
       "    <tr>\n",
       "      <th>725</th>\n",
       "      <td>DEP_TIME_BLK_1800-1859</td>\n",
       "      <td>0.018261</td>\n",
       "    </tr>\n",
       "    <tr>\n",
       "      <th>727</th>\n",
       "      <td>DEP_TIME_BLK_2000-2059</td>\n",
       "      <td>0.013562</td>\n",
       "    </tr>\n",
       "    <tr>\n",
       "      <th>736</th>\n",
       "      <td>DAY_OF_WEEK_6</td>\n",
       "      <td>0.011664</td>\n",
       "    </tr>\n",
       "  </tbody>\n",
       "</table>\n",
       "</div>"
      ],
      "text/plain": [
       "                       Feat      Impo\n",
       "0              DAY_OF_MONTH  0.027529\n",
       "1                 DEP_DEL15  0.094998\n",
       "2                  DISTANCE  0.005568\n",
       "21               ORIGIN_ASE  0.020547\n",
       "22               ORIGIN_ATL  0.015161\n",
       "112              ORIGIN_EWR  0.014059\n",
       "192              ORIGIN_LGA  0.033119\n",
       "207              ORIGIN_MDW  0.008479\n",
       "219              ORIGIN_MLI  0.010786\n",
       "233              ORIGIN_OAK  0.004756\n",
       "241              ORIGIN_ORD  0.042890\n",
       "298              ORIGIN_SEA  0.010779\n",
       "300              ORIGIN_SFO  0.010927\n",
       "368                DEST_ATL  0.036077\n",
       "390                DEST_BOS  0.010305\n",
       "458                DEST_EWR  0.060213\n",
       "538                DEST_LGA  0.056758\n",
       "587                DEST_ORD  0.042201\n",
       "600                DEST_PHX  0.019664\n",
       "646                DEST_SFO  0.016134\n",
       "698    OP_UNIQUE_CARRIER_B6  0.023626\n",
       "699    OP_UNIQUE_CARRIER_DL  0.080143\n",
       "700    OP_UNIQUE_CARRIER_EV  0.005320\n",
       "701    OP_UNIQUE_CARRIER_F9  0.005014\n",
       "702    OP_UNIQUE_CARRIER_G4  0.011174\n",
       "704    OP_UNIQUE_CARRIER_MQ  0.022657\n",
       "707    OP_UNIQUE_CARRIER_OO  0.025438\n",
       "709    OP_UNIQUE_CARRIER_WN  0.037339\n",
       "711    OP_UNIQUE_CARRIER_YX  0.033202\n",
       "712  DEP_TIME_BLK_0001-0559  0.009761\n",
       "713  DEP_TIME_BLK_0600-0659  0.043191\n",
       "714  DEP_TIME_BLK_0700-0759  0.019259\n",
       "715  DEP_TIME_BLK_0800-0859  0.020494\n",
       "724  DEP_TIME_BLK_1700-1759  0.017163\n",
       "725  DEP_TIME_BLK_1800-1859  0.018261\n",
       "727  DEP_TIME_BLK_2000-2059  0.013562\n",
       "736           DAY_OF_WEEK_6  0.011664"
      ]
     },
     "execution_count": 383,
     "metadata": {},
     "output_type": "execute_result"
    }
   ],
   "source": [
    "top_5_pc = np.percentile(rf_model.feature_importances_,95)\n",
    "importance = pd.Series(rf_model.feature_importances_)\n",
    "features = pd.Series(X.columns)\n",
    "\n",
    "features_ = pd.concat([features, importance], axis = 1)\n",
    "features_.rename({0:'Feat', 1: 'Impo'}, axis = 1, inplace = True)\n",
    "feat = features_[features_['Impo'] > top_5_pc]\n",
    "feat"
   ]
  },
  {
   "cell_type": "markdown",
   "metadata": {},
   "source": [
    "Let's see the most important features' relative importance graphically:"
   ]
  },
  {
   "cell_type": "code",
   "execution_count": 385,
   "metadata": {},
   "outputs": [
    {
     "data": {
      "text/plain": [
       "Text(0.5, 0, 'Importance')"
      ]
     },
     "execution_count": 385,
     "metadata": {},
     "output_type": "execute_result"
    },
    {
     "data": {
      "image/png": "[encoded data removed]",
      "text/plain": [
       "<Figure size 288x864 with 1 Axes>"
      ]
     },
     "metadata": {},
     "output_type": "display_data"
    }
   ],
   "source": [
    "fig,ax = plt.subplots()\n",
    "fig.set_size_inches(4, 12)\n",
    "ax.barh(feat.Feat, feat.Impo)\n",
    "ax.set_xlabel('Importance')"
   ]
  },
  {
   "cell_type": "markdown",
   "metadata": {},
   "source": [
    "DEP_DEL15's relative importance is as expected! Some destinations and origins and whether it's Saturday or not also matters!!"
   ]
  },
  {
   "cell_type": "markdown",
   "metadata": {
    "colab_type": "text",
    "id": "EMe9sFlXl0-9"
   },
   "source": [
    "### AdaBoost Classifier <a id='AdaBoost-Classifier'></a>\n"
   ]
  },
  {
   "cell_type": "code",
   "execution_count": null,
   "metadata": {},
   "outputs": [],
   "source": [
    "ab_model = AdaBoostClassifier()"
   ]
  },
  {
   "cell_type": "markdown",
   "metadata": {},
   "source": [
    "Let's optimize the hyperparameters. Here's the hyperparameters to the AdaBoost Classifier as below:\n",
    "    \n",
    "    base_estimator=None,\n",
    "    \n",
    "    n_estimators=50,\n",
    "    \n",
    "    learning_rate=1.0,\n",
    "    \n",
    "    algorithm='SAMME.R',\n",
    "    \n",
    "    random_state=None\n",
    "\n",
    "Let's us optimize the learning rate:"
   ]
  },
  {
   "cell_type": "code",
   "execution_count": 347,
   "metadata": {
    "colab": {
     "base_uri": "https://localhost:8080/",
     "height": 182
    },
    "colab_type": "code",
    "id": "OKD5HS1xRt8m",
    "outputId": "a08b66ea-a2fa-4408-ed4f-e61309217544"
   },
   "outputs": [
    {
     "name": "stderr",
     "output_type": "stream",
     "text": [
      "c:\\python37\\lib\\site-packages\\sklearn\\ensemble\\_weight_boosting.py:561: RuntimeWarning: overflow encountered in exp\n",
      "  sample_weight *= np.exp(estimator_weight *\n",
      "c:\\python37\\lib\\site-packages\\sklearn\\ensemble\\_weight_boosting.py:155: RuntimeWarning: invalid value encountered in true_divide\n",
      "  sample_weight /= sample_weight_sum\n",
      "c:\\python37\\lib\\site-packages\\sklearn\\model_selection\\_validation.py:548: FitFailedWarning: Estimator fit failed. The score on this train-test partition for these parameters will be set to nan. Details: \n",
      "Traceback (most recent call last):\n",
      "  File \"c:\\python37\\lib\\site-packages\\sklearn\\model_selection\\_validation.py\", line 531, in _fit_and_score\n",
      "    estimator.fit(X_train, y_train, **fit_params)\n",
      "  File \"c:\\python37\\lib\\site-packages\\sklearn\\ensemble\\_weight_boosting.py\", line 443, in fit\n",
      "    return super().fit(X, y, sample_weight)\n",
      "  File \"c:\\python37\\lib\\site-packages\\sklearn\\ensemble\\_weight_boosting.py\", line 130, in fit\n",
      "    sample_weight, estimator_weight, estimator_error = self._boost(\n",
      "  File \"c:\\python37\\lib\\site-packages\\sklearn\\ensemble\\_weight_boosting.py\", line 503, in _boost\n",
      "    return self._boost_real(iboost, X, y, sample_weight, random_state)\n",
      "  File \"c:\\python37\\lib\\site-packages\\sklearn\\ensemble\\_weight_boosting.py\", line 513, in _boost_real\n",
      "    estimator.fit(X, y, sample_weight=sample_weight)\n",
      "  File \"c:\\python37\\lib\\site-packages\\sklearn\\tree\\_classes.py\", line 890, in fit\n",
      "    super().fit(\n",
      "  File \"c:\\python37\\lib\\site-packages\\sklearn\\tree\\_classes.py\", line 288, in fit\n",
      "    sample_weight = _check_sample_weight(sample_weight, X, DOUBLE)\n",
      "  File \"c:\\python37\\lib\\site-packages\\sklearn\\utils\\validation.py\", line 1295, in _check_sample_weight\n",
      "    sample_weight = check_array(\n",
      "  File \"c:\\python37\\lib\\site-packages\\sklearn\\utils\\validation.py\", line 73, in inner_f\n",
      "    return f(**kwargs)\n",
      "  File \"c:\\python37\\lib\\site-packages\\sklearn\\utils\\validation.py\", line 645, in check_array\n",
      "    _assert_all_finite(array,\n",
      "  File \"c:\\python37\\lib\\site-packages\\sklearn\\utils\\validation.py\", line 97, in _assert_all_finite\n",
      "    raise ValueError(\n",
      "ValueError: Input contains NaN, infinity or a value too large for dtype('float64').\n",
      "\n",
      "  warnings.warn(\"Estimator fit failed. The score on this train-test\"\n",
      "c:\\python37\\lib\\site-packages\\sklearn\\ensemble\\_weight_boosting.py:561: RuntimeWarning: overflow encountered in exp\n",
      "  sample_weight *= np.exp(estimator_weight *\n",
      "c:\\python37\\lib\\site-packages\\sklearn\\ensemble\\_weight_boosting.py:155: RuntimeWarning: invalid value encountered in true_divide\n",
      "  sample_weight /= sample_weight_sum\n",
      "c:\\python37\\lib\\site-packages\\sklearn\\model_selection\\_validation.py:548: FitFailedWarning: Estimator fit failed. The score on this train-test partition for these parameters will be set to nan. Details: \n",
      "Traceback (most recent call last):\n",
      "  File \"c:\\python37\\lib\\site-packages\\sklearn\\model_selection\\_validation.py\", line 531, in _fit_and_score\n",
      "    estimator.fit(X_train, y_train, **fit_params)\n",
      "  File \"c:\\python37\\lib\\site-packages\\sklearn\\ensemble\\_weight_boosting.py\", line 443, in fit\n",
      "    return super().fit(X, y, sample_weight)\n",
      "  File \"c:\\python37\\lib\\site-packages\\sklearn\\ensemble\\_weight_boosting.py\", line 130, in fit\n",
      "    sample_weight, estimator_weight, estimator_error = self._boost(\n",
      "  File \"c:\\python37\\lib\\site-packages\\sklearn\\ensemble\\_weight_boosting.py\", line 503, in _boost\n",
      "    return self._boost_real(iboost, X, y, sample_weight, random_state)\n",
      "  File \"c:\\python37\\lib\\site-packages\\sklearn\\ensemble\\_weight_boosting.py\", line 513, in _boost_real\n",
      "    estimator.fit(X, y, sample_weight=sample_weight)\n",
      "  File \"c:\\python37\\lib\\site-packages\\sklearn\\tree\\_classes.py\", line 890, in fit\n",
      "    super().fit(\n",
      "  File \"c:\\python37\\lib\\site-packages\\sklearn\\tree\\_classes.py\", line 288, in fit\n",
      "    sample_weight = _check_sample_weight(sample_weight, X, DOUBLE)\n",
      "  File \"c:\\python37\\lib\\site-packages\\sklearn\\utils\\validation.py\", line 1295, in _check_sample_weight\n",
      "    sample_weight = check_array(\n",
      "  File \"c:\\python37\\lib\\site-packages\\sklearn\\utils\\validation.py\", line 73, in inner_f\n",
      "    return f(**kwargs)\n",
      "  File \"c:\\python37\\lib\\site-packages\\sklearn\\utils\\validation.py\", line 645, in check_array\n",
      "    _assert_all_finite(array,\n",
      "  File \"c:\\python37\\lib\\site-packages\\sklearn\\utils\\validation.py\", line 97, in _assert_all_finite\n",
      "    raise ValueError(\n",
      "ValueError: Input contains NaN, infinity or a value too large for dtype('float64').\n",
      "\n",
      "  warnings.warn(\"Estimator fit failed. The score on this train-test\"\n",
      "c:\\python37\\lib\\site-packages\\sklearn\\ensemble\\_weight_boosting.py:561: RuntimeWarning: overflow encountered in exp\n",
      "  sample_weight *= np.exp(estimator_weight *\n",
      "c:\\python37\\lib\\site-packages\\sklearn\\ensemble\\_weight_boosting.py:155: RuntimeWarning: invalid value encountered in true_divide\n",
      "  sample_weight /= sample_weight_sum\n",
      "c:\\python37\\lib\\site-packages\\sklearn\\model_selection\\_validation.py:548: FitFailedWarning: Estimator fit failed. The score on this train-test partition for these parameters will be set to nan. Details: \n",
      "Traceback (most recent call last):\n",
      "  File \"c:\\python37\\lib\\site-packages\\sklearn\\model_selection\\_validation.py\", line 531, in _fit_and_score\n",
      "    estimator.fit(X_train, y_train, **fit_params)\n",
      "  File \"c:\\python37\\lib\\site-packages\\sklearn\\ensemble\\_weight_boosting.py\", line 443, in fit\n",
      "    return super().fit(X, y, sample_weight)\n",
      "  File \"c:\\python37\\lib\\site-packages\\sklearn\\ensemble\\_weight_boosting.py\", line 130, in fit\n",
      "    sample_weight, estimator_weight, estimator_error = self._boost(\n",
      "  File \"c:\\python37\\lib\\site-packages\\sklearn\\ensemble\\_weight_boosting.py\", line 503, in _boost\n",
      "    return self._boost_real(iboost, X, y, sample_weight, random_state)\n",
      "  File \"c:\\python37\\lib\\site-packages\\sklearn\\ensemble\\_weight_boosting.py\", line 513, in _boost_real\n",
      "    estimator.fit(X, y, sample_weight=sample_weight)\n",
      "  File \"c:\\python37\\lib\\site-packages\\sklearn\\tree\\_classes.py\", line 890, in fit\n",
      "    super().fit(\n",
      "  File \"c:\\python37\\lib\\site-packages\\sklearn\\tree\\_classes.py\", line 288, in fit\n",
      "    sample_weight = _check_sample_weight(sample_weight, X, DOUBLE)\n",
      "  File \"c:\\python37\\lib\\site-packages\\sklearn\\utils\\validation.py\", line 1295, in _check_sample_weight\n",
      "    sample_weight = check_array(\n",
      "  File \"c:\\python37\\lib\\site-packages\\sklearn\\utils\\validation.py\", line 73, in inner_f\n",
      "    return f(**kwargs)\n",
      "  File \"c:\\python37\\lib\\site-packages\\sklearn\\utils\\validation.py\", line 645, in check_array\n",
      "    _assert_all_finite(array,\n",
      "  File \"c:\\python37\\lib\\site-packages\\sklearn\\utils\\validation.py\", line 97, in _assert_all_finite\n",
      "    raise ValueError(\n",
      "ValueError: Input contains NaN, infinity or a value too large for dtype('float64').\n",
      "\n",
      "  warnings.warn(\"Estimator fit failed. The score on this train-test\"\n",
      "c:\\python37\\lib\\site-packages\\sklearn\\ensemble\\_weight_boosting.py:561: RuntimeWarning: overflow encountered in exp\n",
      "  sample_weight *= np.exp(estimator_weight *\n",
      "c:\\python37\\lib\\site-packages\\sklearn\\ensemble\\_weight_boosting.py:155: RuntimeWarning: invalid value encountered in true_divide\n",
      "  sample_weight /= sample_weight_sum\n",
      "c:\\python37\\lib\\site-packages\\sklearn\\model_selection\\_validation.py:548: FitFailedWarning: Estimator fit failed. The score on this train-test partition for these parameters will be set to nan. Details: \n",
      "Traceback (most recent call last):\n",
      "  File \"c:\\python37\\lib\\site-packages\\sklearn\\model_selection\\_validation.py\", line 531, in _fit_and_score\n",
      "    estimator.fit(X_train, y_train, **fit_params)\n",
      "  File \"c:\\python37\\lib\\site-packages\\sklearn\\ensemble\\_weight_boosting.py\", line 443, in fit\n",
      "    return super().fit(X, y, sample_weight)\n",
      "  File \"c:\\python37\\lib\\site-packages\\sklearn\\ensemble\\_weight_boosting.py\", line 130, in fit\n",
      "    sample_weight, estimator_weight, estimator_error = self._boost(\n",
      "  File \"c:\\python37\\lib\\site-packages\\sklearn\\ensemble\\_weight_boosting.py\", line 503, in _boost\n",
      "    return self._boost_real(iboost, X, y, sample_weight, random_state)\n",
      "  File \"c:\\python37\\lib\\site-packages\\sklearn\\ensemble\\_weight_boosting.py\", line 513, in _boost_real\n",
      "    estimator.fit(X, y, sample_weight=sample_weight)\n",
      "  File \"c:\\python37\\lib\\site-packages\\sklearn\\tree\\_classes.py\", line 890, in fit\n",
      "    super().fit(\n",
      "  File \"c:\\python37\\lib\\site-packages\\sklearn\\tree\\_classes.py\", line 288, in fit\n",
      "    sample_weight = _check_sample_weight(sample_weight, X, DOUBLE)\n",
      "  File \"c:\\python37\\lib\\site-packages\\sklearn\\utils\\validation.py\", line 1295, in _check_sample_weight\n",
      "    sample_weight = check_array(\n",
      "  File \"c:\\python37\\lib\\site-packages\\sklearn\\utils\\validation.py\", line 73, in inner_f\n",
      "    return f(**kwargs)\n",
      "  File \"c:\\python37\\lib\\site-packages\\sklearn\\utils\\validation.py\", line 645, in check_array\n",
      "    _assert_all_finite(array,\n",
      "  File \"c:\\python37\\lib\\site-packages\\sklearn\\utils\\validation.py\", line 97, in _assert_all_finite\n",
      "    raise ValueError(\n",
      "ValueError: Input contains NaN, infinity or a value too large for dtype('float64').\n",
      "\n",
      "  warnings.warn(\"Estimator fit failed. The score on this train-test\"\n"
     ]
    },
    {
     "name": "stderr",
     "output_type": "stream",
     "text": [
      "c:\\python37\\lib\\site-packages\\sklearn\\ensemble\\_weight_boosting.py:561: RuntimeWarning: overflow encountered in exp\n",
      "  sample_weight *= np.exp(estimator_weight *\n",
      "c:\\python37\\lib\\site-packages\\sklearn\\ensemble\\_weight_boosting.py:155: RuntimeWarning: invalid value encountered in true_divide\n",
      "  sample_weight /= sample_weight_sum\n",
      "c:\\python37\\lib\\site-packages\\sklearn\\model_selection\\_validation.py:548: FitFailedWarning: Estimator fit failed. The score on this train-test partition for these parameters will be set to nan. Details: \n",
      "Traceback (most recent call last):\n",
      "  File \"c:\\python37\\lib\\site-packages\\sklearn\\model_selection\\_validation.py\", line 531, in _fit_and_score\n",
      "    estimator.fit(X_train, y_train, **fit_params)\n",
      "  File \"c:\\python37\\lib\\site-packages\\sklearn\\ensemble\\_weight_boosting.py\", line 443, in fit\n",
      "    return super().fit(X, y, sample_weight)\n",
      "  File \"c:\\python37\\lib\\site-packages\\sklearn\\ensemble\\_weight_boosting.py\", line 130, in fit\n",
      "    sample_weight, estimator_weight, estimator_error = self._boost(\n",
      "  File \"c:\\python37\\lib\\site-packages\\sklearn\\ensemble\\_weight_boosting.py\", line 503, in _boost\n",
      "    return self._boost_real(iboost, X, y, sample_weight, random_state)\n",
      "  File \"c:\\python37\\lib\\site-packages\\sklearn\\ensemble\\_weight_boosting.py\", line 513, in _boost_real\n",
      "    estimator.fit(X, y, sample_weight=sample_weight)\n",
      "  File \"c:\\python37\\lib\\site-packages\\sklearn\\tree\\_classes.py\", line 890, in fit\n",
      "    super().fit(\n",
      "  File \"c:\\python37\\lib\\site-packages\\sklearn\\tree\\_classes.py\", line 288, in fit\n",
      "    sample_weight = _check_sample_weight(sample_weight, X, DOUBLE)\n",
      "  File \"c:\\python37\\lib\\site-packages\\sklearn\\utils\\validation.py\", line 1295, in _check_sample_weight\n",
      "    sample_weight = check_array(\n",
      "  File \"c:\\python37\\lib\\site-packages\\sklearn\\utils\\validation.py\", line 73, in inner_f\n",
      "    return f(**kwargs)\n",
      "  File \"c:\\python37\\lib\\site-packages\\sklearn\\utils\\validation.py\", line 645, in check_array\n",
      "    _assert_all_finite(array,\n",
      "  File \"c:\\python37\\lib\\site-packages\\sklearn\\utils\\validation.py\", line 97, in _assert_all_finite\n",
      "    raise ValueError(\n",
      "ValueError: Input contains NaN, infinity or a value too large for dtype('float64').\n",
      "\n",
      "  warnings.warn(\"Estimator fit failed. The score on this train-test\"\n"
     ]
    },
    {
     "name": "stdout",
     "output_type": "stream",
     "text": [
      "tuned hyperparameters :(best parameters)  {'learning_rate': 0.01}\n",
      "accuracy : 0.9162735358100379\n"
     ]
    }
   ],
   "source": [
    "grid={'learning_rate':np.logspace(-2,2,5)}\n",
    "\n",
    "ab_model_cv = GridSearchCV(ab_model, grid, cv = 5)\n",
    "\n",
    "ab_model_cv.fit(X_train, y_train)\n",
    "\n",
    "print(\"tuned hyperparameters :(best parameters) \",ab_model_cv.best_params_)\n",
    "print(\"accuracy :\",ab_model_cv.best_score_)"
   ]
  },
  {
   "cell_type": "markdown",
   "metadata": {},
   "source": [
    "Let's redefine the model with the best fitting hyperparameters and then fit it to the training data:"
   ]
  },
  {
   "cell_type": "code",
   "execution_count": 362,
   "metadata": {},
   "outputs": [
    {
     "data": {
      "text/plain": [
       "AdaBoostClassifier(learning_rate=0.01)"
      ]
     },
     "execution_count": 362,
     "metadata": {},
     "output_type": "execute_result"
    }
   ],
   "source": [
    "ab_model = AdaBoostClassifier(learning_rate = ab_model_cv.best_params_['learning_rate'] )\n",
    "\n",
    "ab_model.fit(X_train, y_train)"
   ]
  },
  {
   "cell_type": "markdown",
   "metadata": {},
   "source": [
    "Let's now look at the results:"
   ]
  },
  {
   "cell_type": "code",
   "execution_count": 365,
   "metadata": {},
   "outputs": [
    {
     "name": "stdout",
     "output_type": "stream",
     "text": [
      "              precision    recall  f1-score   support\n",
      "\n",
      "         0.0       0.94      0.96      0.95    230458\n",
      "         1.0       0.80      0.74      0.77     52524\n",
      "\n",
      "    accuracy                           0.92    282982\n",
      "   macro avg       0.87      0.85      0.86    282982\n",
      "weighted avg       0.92      0.92      0.92    282982\n",
      "\n"
     ]
    }
   ],
   "source": [
    "y_pred = ab_model.predict(X_test)\n",
    "print(metrics.classification_report(y_test,y_pred))"
   ]
  },
  {
   "cell_type": "code",
   "execution_count": 371,
   "metadata": {
    "colab": {
     "base_uri": "https://localhost:8080/",
     "height": 283
    },
    "colab_type": "code",
    "id": "Vk86K4rY7Nf0",
    "outputId": "6ffeb53a-3846-4d5b-bba2-32dc00bf9c38"
   },
   "outputs": [
    {
     "name": "stderr",
     "output_type": "stream",
     "text": [
      "c:\\python37\\lib\\site-packages\\sklearn\\base.py:209: FutureWarning: From version 0.24, get_params will raise an AttributeError if a parameter cannot be retrieved as an instance attribute. Previously it would return None.\n",
      "  warnings.warn('From version 0.24, get_params will raise an '\n"
     ]
    },
    {
     "data": {
      "text/plain": [
       "<matplotlib.legend.Legend at 0x247c42f92e0>"
      ]
     },
     "execution_count": 371,
     "metadata": {},
     "output_type": "execute_result"
    },
    {
     "data": {
      "image/png": "[encoded data removed]",
      "text/plain": [
       "<Figure size 576x396 with 1 Axes>"
      ]
     },
     "metadata": {},
     "output_type": "display_data"
    }
   ],
   "source": [
    "ax = plt.axes()\n",
    "visualizer = ROCAUC(ab_model, \n",
    "                    ax = ax,\n",
    "                    classes = ['Not Delayed', 'Delayed'])\n",
    "\n",
    "visualizer.fit(X_train, y_train)         \n",
    "visualizer.score(X_test, y_test) \n",
    "ax.set_title('Adaboost Model')\n",
    "ax.set_xlabel('False Positive Rate')\n",
    "ax.set_ylabel('True Positive Rate')\n",
    "ax.legend()"
   ]
  },
  {
   "cell_type": "markdown",
   "metadata": {},
   "source": [
    "Let's seet which features are important:"
   ]
  },
  {
   "cell_type": "code",
   "execution_count": 382,
   "metadata": {},
   "outputs": [
    {
     "data": {
      "text/html": [
       "<div>\n",
       "<style scoped>\n",
       "    .dataframe tbody tr th:only-of-type {\n",
       "        vertical-align: middle;\n",
       "    }\n",
       "\n",
       "    .dataframe tbody tr th {\n",
       "        vertical-align: top;\n",
       "    }\n",
       "\n",
       "    .dataframe thead th {\n",
       "        text-align: right;\n",
       "    }\n",
       "</style>\n",
       "<table border=\"1\" class=\"dataframe\">\n",
       "  <thead>\n",
       "    <tr style=\"text-align: right;\">\n",
       "      <th></th>\n",
       "      <th>Feat</th>\n",
       "      <th>Impo</th>\n",
       "    </tr>\n",
       "  </thead>\n",
       "  <tbody>\n",
       "    <tr>\n",
       "      <th>1</th>\n",
       "      <td>DEP_DEL15</td>\n",
       "      <td>1.0</td>\n",
       "    </tr>\n",
       "  </tbody>\n",
       "</table>\n",
       "</div>"
      ],
      "text/plain": [
       "        Feat  Impo\n",
       "1  DEP_DEL15   1.0"
      ]
     },
     "execution_count": 382,
     "metadata": {},
     "output_type": "execute_result"
    }
   ],
   "source": [
    "importance = pd.Series(ab_model.feature_importances_)\n",
    "features = pd.Series(X.columns)\n",
    "\n",
    "features_ = pd.concat([features, importance], axis = 1)\n",
    "features_.rename({0:'Feat', 1: 'Impo'}, axis = 1, inplace = True)\n",
    "feat = features_[features_['Impo'] > 0.0]\n",
    "feat"
   ]
  },
  {
   "cell_type": "markdown",
   "metadata": {},
   "source": [
    "Only whether a flight departed late matters!!!"
   ]
  },
  {
   "cell_type": "markdown",
   "metadata": {
    "colab_type": "text",
    "id": "w0W74EuwmvE2"
   },
   "source": [
    "## Neural network model with Keras  <a id='nn'></a>"
   ]
  },
  {
   "cell_type": "code",
   "execution_count": 393,
   "metadata": {
    "scrolled": true
   },
   "outputs": [
    {
     "name": "stdout",
     "output_type": "stream",
     "text": [
      "Epoch 1/20\n",
      "1106/1106 [==============================] - 16s 15ms/step - loss: 0.2842 - accuracy: 0.9059 - val_loss: 0.2680 - val_accuracy: 0.9175\n",
      "Epoch 2/20\n",
      "1106/1106 [==============================] - 9s 8ms/step - loss: 0.2608 - accuracy: 0.9161 - val_loss: 0.2591 - val_accuracy: 0.9175\n",
      "Epoch 3/20\n",
      "1106/1106 [==============================] - 9s 8ms/step - loss: 0.2574 - accuracy: 0.9162 - val_loss: 0.2560 - val_accuracy: 0.9170\n",
      "Epoch 4/20\n",
      "1106/1106 [==============================] - 10s 9ms/step - loss: 0.2544 - accuracy: 0.9164 - val_loss: 0.2597 - val_accuracy: 0.9150\n",
      "Epoch 5/20\n",
      "1106/1106 [==============================] - 9s 9ms/step - loss: 0.2523 - accuracy: 0.9165 - val_loss: 0.2540 - val_accuracy: 0.9166\n",
      "Epoch 6/20\n",
      "1106/1106 [==============================] - 10s 9ms/step - loss: 0.2503 - accuracy: 0.9164 - val_loss: 0.2535 - val_accuracy: 0.9168\n",
      "Epoch 7/20\n",
      "1106/1106 [==============================] - 12s 10ms/step - loss: 0.2489 - accuracy: 0.9168 - val_loss: 0.2521 - val_accuracy: 0.9166\n",
      "Epoch 8/20\n",
      "1106/1106 [==============================] - 12s 11ms/step - loss: 0.2477 - accuracy: 0.9169 - val_loss: 0.2523 - val_accuracy: 0.9168\n",
      "Epoch 9/20\n",
      "1106/1106 [==============================] - 9s 9ms/step - loss: 0.2462 - accuracy: 0.9171 - val_loss: 0.2517 - val_accuracy: 0.9164\n",
      "Epoch 10/20\n",
      "1106/1106 [==============================] - 10s 9ms/step - loss: 0.2451 - accuracy: 0.9171 - val_loss: 0.2550 - val_accuracy: 0.9164\n",
      "Epoch 11/20\n",
      "1106/1106 [==============================] - 11s 10ms/step - loss: 0.2440 - accuracy: 0.9173 - val_loss: 0.2554 - val_accuracy: 0.9163\n",
      "Epoch 12/20\n",
      "1106/1106 [==============================] - 10s 9ms/step - loss: 0.2428 - accuracy: 0.9174 - val_loss: 0.2532 - val_accuracy: 0.9146\n",
      "Epoch 13/20\n",
      "1106/1106 [==============================] - 10s 9ms/step - loss: 0.2418 - accuracy: 0.9178 - val_loss: 0.2583 - val_accuracy: 0.9135\n",
      "Epoch 14/20\n",
      "1106/1106 [==============================] - 10s 9ms/step - loss: 0.2408 - accuracy: 0.9176 - val_loss: 0.2526 - val_accuracy: 0.9148\n",
      "Epoch 15/20\n",
      "1106/1106 [==============================] - 10s 9ms/step - loss: 0.2396 - accuracy: 0.9176 - val_loss: 0.2516 - val_accuracy: 0.9159\n",
      "Epoch 16/20\n",
      "1106/1106 [==============================] - 10s 9ms/step - loss: 0.2388 - accuracy: 0.9179 - val_loss: 0.2516 - val_accuracy: 0.9158\n",
      "Epoch 17/20\n",
      "1106/1106 [==============================] - 9s 8ms/step - loss: 0.2376 - accuracy: 0.9179 - val_loss: 0.2655 - val_accuracy: 0.9138\n",
      "Epoch 18/20\n",
      "1106/1106 [==============================] - 9s 8ms/step - loss: 0.2369 - accuracy: 0.9184 - val_loss: 0.2538 - val_accuracy: 0.9148\n",
      "Epoch 19/20\n",
      "1106/1106 [==============================] - 8s 7ms/step - loss: 0.2360 - accuracy: 0.9184 - val_loss: 0.2515 - val_accuracy: 0.9148\n",
      "Epoch 20/20\n",
      "1106/1106 [==============================] - 8s 7ms/step - loss: 0.2351 - accuracy: 0.9184 - val_loss: 0.2589 - val_accuracy: 0.9108\n"
     ]
    }
   ],
   "source": [
    "X_train, X_test, y_train, y_test = train_test_split(X, y, test_size=0.5)\n",
    "\n",
    "y_train = to_categorical(y_train)\n",
    "y_test = to_categorical(y_test)\n",
    "\n",
    "\n",
    "nn_model_s = Sequential()\n",
    "nn_model_s.add(Dense(64, input_dim= X_train.shape[1], activation= 'relu'))\n",
    "nn_model_s.add(Dense(8, input_dim= X_train.shape[1], activation= 'relu'))\n",
    "nn_model_s.add(Dense(2, activation= 'softmax'))\n",
    "\n",
    "nn_model_s.compile(loss= 'binary_crossentropy', \n",
    "              #optimizer= opt, \n",
    "              metrics= ['accuracy'])\n",
    "history_s = nn_model_s.fit(X_train, y_train,validation_split = 0.5, epochs= 20, batch_size=128)\n",
    "\n"
   ]
  },
  {
   "cell_type": "code",
   "execution_count": 394,
   "metadata": {},
   "outputs": [
    {
     "data": {
      "image/png": "[encoded data removed]",
      "text/plain": [
       "<Figure size 576x396 with 2 Axes>"
      ]
     },
     "metadata": {},
     "output_type": "display_data"
    }
   ],
   "source": [
    "f, (ax1, ax2) = plt.subplots(2,1,sharex= True)\n",
    "ax1.set_title('Loss')\n",
    "ax1.plot(history_s.history['loss'], label='train')\n",
    "ax1.plot(history_s.history['val_loss'], label='validation')\n",
    "ax1.legend()\n",
    "# plot accuracy during training\n",
    "ax2.set_title('Accuracy')\n",
    "ax2.set_xlabel('Epoch #')\n",
    "ax2.plot(history_s.history['accuracy'], label='train')\n",
    "ax2.plot(history_s.history['val_accuracy'], label='validation')\n",
    "ax2.legend()\n",
    "plt.show()"
   ]
  },
  {
   "cell_type": "markdown",
   "metadata": {},
   "source": [
    "Overfitting starts almost immediately however it does not make the prediction accuracy much worse on the validation dataset. 2 epochs are recommended for the model to train."
   ]
  },
  {
   "cell_type": "code",
   "execution_count": 400,
   "metadata": {},
   "outputs": [
    {
     "name": "stdout",
     "output_type": "stream",
     "text": [
      "Train: 0.916, Test: 0.913\n"
     ]
    }
   ],
   "source": [
    "_, train_acc = nn_model_s.evaluate(X_train, y_train, verbose=0)\n",
    "_, test_acc = nn_model_s.evaluate(X_test, y_test, verbose=0)\n",
    "print('Train: %.3f, Test: %.3f' % (train_acc, test_acc))"
   ]
  },
  {
   "cell_type": "code",
   "execution_count": 399,
   "metadata": {},
   "outputs": [
    {
     "name": "stdout",
     "output_type": "stream",
     "text": [
      "              precision    recall  f1-score   support\n",
      "\n",
      "           0       0.93      0.96      0.95    230483\n",
      "           1       0.80      0.70      0.75     52499\n",
      "\n",
      "   micro avg       0.91      0.91      0.91    282982\n",
      "   macro avg       0.87      0.83      0.85    282982\n",
      "weighted avg       0.91      0.91      0.91    282982\n",
      " samples avg       0.91      0.91      0.91    282982\n",
      "\n"
     ]
    }
   ],
   "source": [
    "y_pred = nn_model_s.predict(X_test)\n",
    "y_pred  = (y_pred > 0.5)\n",
    "print(metrics.classification_report(y_test,y_pred))"
   ]
  },
  {
   "cell_type": "markdown",
   "metadata": {},
   "source": [
    "## Summary <a id='Summary'></a>\n",
    "\n",
    "Exploratory data analysis identifies cyclicity in flight delays with respect to week days and also identifies the biggest offending airlines and airports. It also identifies which departure time is most likely to result in delays.\n",
    "\n",
    "However none of the models beat the harder baseline, that is if we only that a flight departed late and claimed it'd also arrive late we would have a better estimate than all the model. None of the recall values exceeded 0.796.\n",
    "Optimizing the hyperparameters of the models presents many difficulties. It is time consuming and in this case did not appear to significantly improve the results. It is also likely that the default values of the Sklearn libraries are very good.\n",
    "\n",
    "It is very possible that more data would improve the model. However with the amount of data present I'd conclude that a single exploratory, statistical model is better than the machine learning models."
   ]
  },
  {
   "cell_type": "code",
   "execution_count": null,
   "metadata": {},
   "outputs": [],
   "source": []
  }
 ],
 "metadata": {
  "accelerator": "TPU",
  "colab": {
   "collapsed_sections": [],
   "name": "Project 2",
   "provenance": []
  },
  "kernelspec": {
   "display_name": "Python 3",
   "language": "python",
   "name": "python3"
  },
  "language_info": {
   "codemirror_mode": {
    "name": "ipython",
    "version": 3
   },
   "file_extension": ".py",
   "mimetype": "text/x-python",
   "name": "python",
   "nbconvert_exporter": "python",
   "pygments_lexer": "ipython3",
   "version": "3.8.3"
  }
 },
 "nbformat": 4,
 "nbformat_minor": 1
}
